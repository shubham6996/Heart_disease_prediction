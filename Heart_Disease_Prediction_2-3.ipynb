{
  "nbformat": 4,
  "nbformat_minor": 5,
  "metadata": {
    "colab": {
      "name": "Heart_Disease_Prediction-2.ipynb",
      "provenance": []
    },
    "kernelspec": {
      "display_name": "Python 3",
      "language": "python",
      "name": "python3"
    },
    "language_info": {
      "codemirror_mode": {
        "name": "ipython",
        "version": 3
      },
      "file_extension": ".py",
      "mimetype": "text/x-python",
      "name": "python",
      "nbconvert_exporter": "python",
      "pygments_lexer": "ipython3",
      "version": "3.8.8"
    }
  },
  "cells": [
    {
      "cell_type": "code",
      "metadata": {
        "id": "c60e403f"
      },
      "source": [
        "#Importing all the libraries needed\n",
        "import pandas as pd\n",
        "import numpy as np\n",
        "import os\n",
        "import joblib\n",
        "#Libraries for visualization\n",
        "import matplotlib.pyplot as plt\n",
        "import seaborn as sns\n",
        "\n",
        "#Libraries for modeling\n",
        "from sklearn.model_selection import train_test_split\n",
        "from sklearn.metrics import precision_score,f1_score,recall_score\n",
        "from sklearn.metrics import confusion_matrix,accuracy_score\n",
        "from sklearn import metrics\n",
        "from sklearn.model_selection import StratifiedKFold\n",
        "\n",
        "from sklearn.tree import DecisionTreeClassifier\n",
        "from sklearn.neighbors import KNeighborsClassifier\n",
        "from sklearn.ensemble import RandomForestClassifier,RandomForestClassifier\n",
        "from sklearn.svm import SVC \n",
        "\n",
        "from scipy import stats\n",
        "\n",
        "#Library for file processing\n",
        "import pickle"
      ],
      "id": "c60e403f",
      "execution_count": 76,
      "outputs": []
    },
    {
      "cell_type": "markdown",
      "metadata": {
        "id": "HXazLdcKZGP8"
      },
      "source": [
        "**Dataset**"
      ],
      "id": "HXazLdcKZGP8"
    },
    {
      "cell_type": "code",
      "metadata": {
        "id": "72a24fdb"
      },
      "source": [
        "##Reading the contents of the file\n",
        "\n",
        "file_name = '/content/heart_statlog_cleveland_hungary_final.xls'\n",
        "data = pd.read_csv(file_name)"
      ],
      "id": "72a24fdb",
      "execution_count": 77,
      "outputs": []
    },
    {
      "cell_type": "code",
      "metadata": {
        "colab": {
          "base_uri": "https://localhost:8080/",
          "height": 221
        },
        "id": "628d4b85",
        "outputId": "39af5f05-3dee-40c3-8e6d-9e62f7bf2c8c"
      },
      "source": [
        "data.head()"
      ],
      "id": "628d4b85",
      "execution_count": 78,
      "outputs": [
        {
          "output_type": "execute_result",
          "data": {
            "text/html": [
              "<div>\n",
              "<style scoped>\n",
              "    .dataframe tbody tr th:only-of-type {\n",
              "        vertical-align: middle;\n",
              "    }\n",
              "\n",
              "    .dataframe tbody tr th {\n",
              "        vertical-align: top;\n",
              "    }\n",
              "\n",
              "    .dataframe thead th {\n",
              "        text-align: right;\n",
              "    }\n",
              "</style>\n",
              "<table border=\"1\" class=\"dataframe\">\n",
              "  <thead>\n",
              "    <tr style=\"text-align: right;\">\n",
              "      <th></th>\n",
              "      <th>age</th>\n",
              "      <th>sex</th>\n",
              "      <th>chest pain type</th>\n",
              "      <th>resting bp s</th>\n",
              "      <th>cholesterol</th>\n",
              "      <th>fasting blood sugar</th>\n",
              "      <th>resting ecg</th>\n",
              "      <th>max heart rate</th>\n",
              "      <th>exercise angina</th>\n",
              "      <th>oldpeak</th>\n",
              "      <th>ST slope</th>\n",
              "      <th>target</th>\n",
              "    </tr>\n",
              "  </thead>\n",
              "  <tbody>\n",
              "    <tr>\n",
              "      <th>0</th>\n",
              "      <td>40</td>\n",
              "      <td>1</td>\n",
              "      <td>2</td>\n",
              "      <td>140</td>\n",
              "      <td>289</td>\n",
              "      <td>0</td>\n",
              "      <td>0</td>\n",
              "      <td>172</td>\n",
              "      <td>0</td>\n",
              "      <td>0.0</td>\n",
              "      <td>1</td>\n",
              "      <td>0</td>\n",
              "    </tr>\n",
              "    <tr>\n",
              "      <th>1</th>\n",
              "      <td>49</td>\n",
              "      <td>0</td>\n",
              "      <td>3</td>\n",
              "      <td>160</td>\n",
              "      <td>180</td>\n",
              "      <td>0</td>\n",
              "      <td>0</td>\n",
              "      <td>156</td>\n",
              "      <td>0</td>\n",
              "      <td>1.0</td>\n",
              "      <td>2</td>\n",
              "      <td>1</td>\n",
              "    </tr>\n",
              "    <tr>\n",
              "      <th>2</th>\n",
              "      <td>37</td>\n",
              "      <td>1</td>\n",
              "      <td>2</td>\n",
              "      <td>130</td>\n",
              "      <td>283</td>\n",
              "      <td>0</td>\n",
              "      <td>1</td>\n",
              "      <td>98</td>\n",
              "      <td>0</td>\n",
              "      <td>0.0</td>\n",
              "      <td>1</td>\n",
              "      <td>0</td>\n",
              "    </tr>\n",
              "    <tr>\n",
              "      <th>3</th>\n",
              "      <td>48</td>\n",
              "      <td>0</td>\n",
              "      <td>4</td>\n",
              "      <td>138</td>\n",
              "      <td>214</td>\n",
              "      <td>0</td>\n",
              "      <td>0</td>\n",
              "      <td>108</td>\n",
              "      <td>1</td>\n",
              "      <td>1.5</td>\n",
              "      <td>2</td>\n",
              "      <td>1</td>\n",
              "    </tr>\n",
              "    <tr>\n",
              "      <th>4</th>\n",
              "      <td>54</td>\n",
              "      <td>1</td>\n",
              "      <td>3</td>\n",
              "      <td>150</td>\n",
              "      <td>195</td>\n",
              "      <td>0</td>\n",
              "      <td>0</td>\n",
              "      <td>122</td>\n",
              "      <td>0</td>\n",
              "      <td>0.0</td>\n",
              "      <td>1</td>\n",
              "      <td>0</td>\n",
              "    </tr>\n",
              "  </tbody>\n",
              "</table>\n",
              "</div>"
            ],
            "text/plain": [
              "   age  sex  chest pain type  ...  oldpeak  ST slope  target\n",
              "0   40    1                2  ...      0.0         1       0\n",
              "1   49    0                3  ...      1.0         2       1\n",
              "2   37    1                2  ...      0.0         1       0\n",
              "3   48    0                4  ...      1.5         2       1\n",
              "4   54    1                3  ...      0.0         1       0\n",
              "\n",
              "[5 rows x 12 columns]"
            ]
          },
          "metadata": {},
          "execution_count": 78
        }
      ]
    },
    {
      "cell_type": "code",
      "metadata": {
        "colab": {
          "base_uri": "https://localhost:8080/"
        },
        "id": "48278dad",
        "outputId": "15ed2578-f175-48ce-ad47-2b1fbc5f0cac"
      },
      "source": [
        "#Shape of the dataframe\n",
        "data.shape"
      ],
      "id": "48278dad",
      "execution_count": 79,
      "outputs": [
        {
          "output_type": "execute_result",
          "data": {
            "text/plain": [
              "(1190, 12)"
            ]
          },
          "metadata": {},
          "execution_count": 79
        }
      ]
    },
    {
      "cell_type": "code",
      "metadata": {
        "colab": {
          "base_uri": "https://localhost:8080/"
        },
        "id": "US3THEKmiln5",
        "outputId": "6fbf9b08-3fa4-4b12-979a-7baab44de726"
      },
      "source": [
        "#Columns of the dataframe\n",
        "data.columns"
      ],
      "id": "US3THEKmiln5",
      "execution_count": 80,
      "outputs": [
        {
          "output_type": "execute_result",
          "data": {
            "text/plain": [
              "Index(['age', 'sex', 'chest pain type', 'resting bp s', 'cholesterol',\n",
              "       'fasting blood sugar', 'resting ecg', 'max heart rate',\n",
              "       'exercise angina', 'oldpeak', 'ST slope', 'target'],\n",
              "      dtype='object')"
            ]
          },
          "metadata": {},
          "execution_count": 80
        }
      ]
    },
    {
      "cell_type": "code",
      "metadata": {
        "colab": {
          "base_uri": "https://localhost:8080/",
          "height": 351
        },
        "id": "kKep0xj5iXg_",
        "outputId": "f557df2b-f134-476a-8a79-197a128a051c"
      },
      "source": [
        "##Statistics of the dataframe\n",
        "data.describe()"
      ],
      "id": "kKep0xj5iXg_",
      "execution_count": 81,
      "outputs": [
        {
          "output_type": "execute_result",
          "data": {
            "text/html": [
              "<div>\n",
              "<style scoped>\n",
              "    .dataframe tbody tr th:only-of-type {\n",
              "        vertical-align: middle;\n",
              "    }\n",
              "\n",
              "    .dataframe tbody tr th {\n",
              "        vertical-align: top;\n",
              "    }\n",
              "\n",
              "    .dataframe thead th {\n",
              "        text-align: right;\n",
              "    }\n",
              "</style>\n",
              "<table border=\"1\" class=\"dataframe\">\n",
              "  <thead>\n",
              "    <tr style=\"text-align: right;\">\n",
              "      <th></th>\n",
              "      <th>age</th>\n",
              "      <th>sex</th>\n",
              "      <th>chest pain type</th>\n",
              "      <th>resting bp s</th>\n",
              "      <th>cholesterol</th>\n",
              "      <th>fasting blood sugar</th>\n",
              "      <th>resting ecg</th>\n",
              "      <th>max heart rate</th>\n",
              "      <th>exercise angina</th>\n",
              "      <th>oldpeak</th>\n",
              "      <th>ST slope</th>\n",
              "      <th>target</th>\n",
              "    </tr>\n",
              "  </thead>\n",
              "  <tbody>\n",
              "    <tr>\n",
              "      <th>count</th>\n",
              "      <td>1190.000000</td>\n",
              "      <td>1190.000000</td>\n",
              "      <td>1190.000000</td>\n",
              "      <td>1190.000000</td>\n",
              "      <td>1190.000000</td>\n",
              "      <td>1190.000000</td>\n",
              "      <td>1190.000000</td>\n",
              "      <td>1190.000000</td>\n",
              "      <td>1190.000000</td>\n",
              "      <td>1190.000000</td>\n",
              "      <td>1190.000000</td>\n",
              "      <td>1190.000000</td>\n",
              "    </tr>\n",
              "    <tr>\n",
              "      <th>mean</th>\n",
              "      <td>53.720168</td>\n",
              "      <td>0.763866</td>\n",
              "      <td>3.232773</td>\n",
              "      <td>132.153782</td>\n",
              "      <td>210.363866</td>\n",
              "      <td>0.213445</td>\n",
              "      <td>0.698319</td>\n",
              "      <td>139.732773</td>\n",
              "      <td>0.387395</td>\n",
              "      <td>0.922773</td>\n",
              "      <td>1.624370</td>\n",
              "      <td>0.528571</td>\n",
              "    </tr>\n",
              "    <tr>\n",
              "      <th>std</th>\n",
              "      <td>9.358203</td>\n",
              "      <td>0.424884</td>\n",
              "      <td>0.935480</td>\n",
              "      <td>18.368823</td>\n",
              "      <td>101.420489</td>\n",
              "      <td>0.409912</td>\n",
              "      <td>0.870359</td>\n",
              "      <td>25.517636</td>\n",
              "      <td>0.487360</td>\n",
              "      <td>1.086337</td>\n",
              "      <td>0.610459</td>\n",
              "      <td>0.499393</td>\n",
              "    </tr>\n",
              "    <tr>\n",
              "      <th>min</th>\n",
              "      <td>28.000000</td>\n",
              "      <td>0.000000</td>\n",
              "      <td>1.000000</td>\n",
              "      <td>0.000000</td>\n",
              "      <td>0.000000</td>\n",
              "      <td>0.000000</td>\n",
              "      <td>0.000000</td>\n",
              "      <td>60.000000</td>\n",
              "      <td>0.000000</td>\n",
              "      <td>-2.600000</td>\n",
              "      <td>0.000000</td>\n",
              "      <td>0.000000</td>\n",
              "    </tr>\n",
              "    <tr>\n",
              "      <th>25%</th>\n",
              "      <td>47.000000</td>\n",
              "      <td>1.000000</td>\n",
              "      <td>3.000000</td>\n",
              "      <td>120.000000</td>\n",
              "      <td>188.000000</td>\n",
              "      <td>0.000000</td>\n",
              "      <td>0.000000</td>\n",
              "      <td>121.000000</td>\n",
              "      <td>0.000000</td>\n",
              "      <td>0.000000</td>\n",
              "      <td>1.000000</td>\n",
              "      <td>0.000000</td>\n",
              "    </tr>\n",
              "    <tr>\n",
              "      <th>50%</th>\n",
              "      <td>54.000000</td>\n",
              "      <td>1.000000</td>\n",
              "      <td>4.000000</td>\n",
              "      <td>130.000000</td>\n",
              "      <td>229.000000</td>\n",
              "      <td>0.000000</td>\n",
              "      <td>0.000000</td>\n",
              "      <td>140.500000</td>\n",
              "      <td>0.000000</td>\n",
              "      <td>0.600000</td>\n",
              "      <td>2.000000</td>\n",
              "      <td>1.000000</td>\n",
              "    </tr>\n",
              "    <tr>\n",
              "      <th>75%</th>\n",
              "      <td>60.000000</td>\n",
              "      <td>1.000000</td>\n",
              "      <td>4.000000</td>\n",
              "      <td>140.000000</td>\n",
              "      <td>269.750000</td>\n",
              "      <td>0.000000</td>\n",
              "      <td>2.000000</td>\n",
              "      <td>160.000000</td>\n",
              "      <td>1.000000</td>\n",
              "      <td>1.600000</td>\n",
              "      <td>2.000000</td>\n",
              "      <td>1.000000</td>\n",
              "    </tr>\n",
              "    <tr>\n",
              "      <th>max</th>\n",
              "      <td>77.000000</td>\n",
              "      <td>1.000000</td>\n",
              "      <td>4.000000</td>\n",
              "      <td>200.000000</td>\n",
              "      <td>603.000000</td>\n",
              "      <td>1.000000</td>\n",
              "      <td>2.000000</td>\n",
              "      <td>202.000000</td>\n",
              "      <td>1.000000</td>\n",
              "      <td>6.200000</td>\n",
              "      <td>3.000000</td>\n",
              "      <td>1.000000</td>\n",
              "    </tr>\n",
              "  </tbody>\n",
              "</table>\n",
              "</div>"
            ],
            "text/plain": [
              "               age          sex  ...     ST slope       target\n",
              "count  1190.000000  1190.000000  ...  1190.000000  1190.000000\n",
              "mean     53.720168     0.763866  ...     1.624370     0.528571\n",
              "std       9.358203     0.424884  ...     0.610459     0.499393\n",
              "min      28.000000     0.000000  ...     0.000000     0.000000\n",
              "25%      47.000000     1.000000  ...     1.000000     0.000000\n",
              "50%      54.000000     1.000000  ...     2.000000     1.000000\n",
              "75%      60.000000     1.000000  ...     2.000000     1.000000\n",
              "max      77.000000     1.000000  ...     3.000000     1.000000\n",
              "\n",
              "[8 rows x 12 columns]"
            ]
          },
          "metadata": {},
          "execution_count": 81
        }
      ]
    },
    {
      "cell_type": "markdown",
      "metadata": {
        "id": "6iVnNx3RZB6B"
      },
      "source": [
        "**Data Preprocessing**"
      ],
      "id": "6iVnNx3RZB6B"
    },
    {
      "cell_type": "code",
      "metadata": {
        "id": "p-E4c5YhsOyF"
      },
      "source": [
        "##We know from the data that 'sex', 'chest pain type', 'fasting blood sugar', 'resting ecg', 'exercise angina', 'ST slope' are nominal variables. "
      ],
      "id": "p-E4c5YhsOyF",
      "execution_count": 82,
      "outputs": []
    },
    {
      "cell_type": "code",
      "metadata": {
        "colab": {
          "base_uri": "https://localhost:8080/"
        },
        "id": "0i66hw1vs7y9",
        "outputId": "e985a408-efd5-4810-ee33-ae01df5e6936"
      },
      "source": [
        "data['sex'].unique()"
      ],
      "id": "0i66hw1vs7y9",
      "execution_count": 83,
      "outputs": [
        {
          "output_type": "execute_result",
          "data": {
            "text/plain": [
              "array([1, 0])"
            ]
          },
          "metadata": {},
          "execution_count": 83
        }
      ]
    },
    {
      "cell_type": "code",
      "metadata": {
        "colab": {
          "base_uri": "https://localhost:8080/",
          "height": 238
        },
        "id": "6aaf5932",
        "outputId": "90bd8953-b56b-4099-e9c8-4d386ecdb4d3"
      },
      "source": [
        "##Sex is a categorical variable, 1 for male and 0 for female, according to the data provided.\n",
        "#Converting them into categorical variable, we have:\n",
        "\n",
        "#Converting sex: 1 to male\n",
        "data = data.replace({'sex': 1}, \"male\")\n",
        "#Converting sex: 0 to female\n",
        "data = data.replace({'sex': 0}, \"female\")\n",
        "\n",
        "data.head()"
      ],
      "id": "6aaf5932",
      "execution_count": 84,
      "outputs": [
        {
          "output_type": "execute_result",
          "data": {
            "text/html": [
              "<div>\n",
              "<style scoped>\n",
              "    .dataframe tbody tr th:only-of-type {\n",
              "        vertical-align: middle;\n",
              "    }\n",
              "\n",
              "    .dataframe tbody tr th {\n",
              "        vertical-align: top;\n",
              "    }\n",
              "\n",
              "    .dataframe thead th {\n",
              "        text-align: right;\n",
              "    }\n",
              "</style>\n",
              "<table border=\"1\" class=\"dataframe\">\n",
              "  <thead>\n",
              "    <tr style=\"text-align: right;\">\n",
              "      <th></th>\n",
              "      <th>age</th>\n",
              "      <th>sex</th>\n",
              "      <th>chest pain type</th>\n",
              "      <th>resting bp s</th>\n",
              "      <th>cholesterol</th>\n",
              "      <th>fasting blood sugar</th>\n",
              "      <th>resting ecg</th>\n",
              "      <th>max heart rate</th>\n",
              "      <th>exercise angina</th>\n",
              "      <th>oldpeak</th>\n",
              "      <th>ST slope</th>\n",
              "      <th>target</th>\n",
              "    </tr>\n",
              "  </thead>\n",
              "  <tbody>\n",
              "    <tr>\n",
              "      <th>0</th>\n",
              "      <td>40</td>\n",
              "      <td>male</td>\n",
              "      <td>2</td>\n",
              "      <td>140</td>\n",
              "      <td>289</td>\n",
              "      <td>0</td>\n",
              "      <td>0</td>\n",
              "      <td>172</td>\n",
              "      <td>0</td>\n",
              "      <td>0.0</td>\n",
              "      <td>1</td>\n",
              "      <td>0</td>\n",
              "    </tr>\n",
              "    <tr>\n",
              "      <th>1</th>\n",
              "      <td>49</td>\n",
              "      <td>female</td>\n",
              "      <td>3</td>\n",
              "      <td>160</td>\n",
              "      <td>180</td>\n",
              "      <td>0</td>\n",
              "      <td>0</td>\n",
              "      <td>156</td>\n",
              "      <td>0</td>\n",
              "      <td>1.0</td>\n",
              "      <td>2</td>\n",
              "      <td>1</td>\n",
              "    </tr>\n",
              "    <tr>\n",
              "      <th>2</th>\n",
              "      <td>37</td>\n",
              "      <td>male</td>\n",
              "      <td>2</td>\n",
              "      <td>130</td>\n",
              "      <td>283</td>\n",
              "      <td>0</td>\n",
              "      <td>1</td>\n",
              "      <td>98</td>\n",
              "      <td>0</td>\n",
              "      <td>0.0</td>\n",
              "      <td>1</td>\n",
              "      <td>0</td>\n",
              "    </tr>\n",
              "    <tr>\n",
              "      <th>3</th>\n",
              "      <td>48</td>\n",
              "      <td>female</td>\n",
              "      <td>4</td>\n",
              "      <td>138</td>\n",
              "      <td>214</td>\n",
              "      <td>0</td>\n",
              "      <td>0</td>\n",
              "      <td>108</td>\n",
              "      <td>1</td>\n",
              "      <td>1.5</td>\n",
              "      <td>2</td>\n",
              "      <td>1</td>\n",
              "    </tr>\n",
              "    <tr>\n",
              "      <th>4</th>\n",
              "      <td>54</td>\n",
              "      <td>male</td>\n",
              "      <td>3</td>\n",
              "      <td>150</td>\n",
              "      <td>195</td>\n",
              "      <td>0</td>\n",
              "      <td>0</td>\n",
              "      <td>122</td>\n",
              "      <td>0</td>\n",
              "      <td>0.0</td>\n",
              "      <td>1</td>\n",
              "      <td>0</td>\n",
              "    </tr>\n",
              "  </tbody>\n",
              "</table>\n",
              "</div>"
            ],
            "text/plain": [
              "   age     sex  chest pain type  ...  oldpeak  ST slope  target\n",
              "0   40    male                2  ...      0.0         1       0\n",
              "1   49  female                3  ...      1.0         2       1\n",
              "2   37    male                2  ...      0.0         1       0\n",
              "3   48  female                4  ...      1.5         2       1\n",
              "4   54    male                3  ...      0.0         1       0\n",
              "\n",
              "[5 rows x 12 columns]"
            ]
          },
          "metadata": {},
          "execution_count": 84
        }
      ]
    },
    {
      "cell_type": "code",
      "metadata": {
        "colab": {
          "base_uri": "https://localhost:8080/"
        },
        "id": "IEcy4jgXtq-O",
        "outputId": "06d13689-27d0-4813-c950-914af27286d1"
      },
      "source": [
        "data['chest pain type'].unique()"
      ],
      "id": "IEcy4jgXtq-O",
      "execution_count": 85,
      "outputs": [
        {
          "output_type": "execute_result",
          "data": {
            "text/plain": [
              "array([2, 3, 4, 1])"
            ]
          },
          "metadata": {},
          "execution_count": 85
        }
      ]
    },
    {
      "cell_type": "code",
      "metadata": {
        "colab": {
          "base_uri": "https://localhost:8080/",
          "height": 323
        },
        "id": "oNhHSXgrkXhI",
        "outputId": "4a28ec8a-15e3-43f8-937b-e22c99d95d87"
      },
      "source": [
        "##We can see that 'chest pain type' is a categorical variable, 1 for Typical Angina, 2 for Atypical Angina, 3 for Non Cardiac Chest pain, 4 for Asymptomatic chest pain according to the data provided\n",
        "#Converting them into their actual representation, we have:\n",
        "\n",
        "#Converting 'chest pain type': 1 to 'Typical Angina'\n",
        "data = data.replace({'chest pain type': 1}, \"typical chest pain\")\n",
        "#Converting sex: 'chest pain type': 2 to 'Atypical Angina'\n",
        "data = data.replace({'chest pain type': 2}, \"atypical chest pain\")\n",
        "#Converting 'chest pain type': 3 to 'Non Cardiac Chest pain'\n",
        "data = data.replace({'chest pain type': 3}, \"non cardiac chest pain\")\n",
        "#Converting sex: 'chest pain type': 4 to 'Asymptomatic chest pain'\n",
        "data = data.replace({'chest pain type': 4}, \"asymptomatic chest pain\")\n",
        "\n",
        "data.head()"
      ],
      "id": "oNhHSXgrkXhI",
      "execution_count": 86,
      "outputs": [
        {
          "output_type": "execute_result",
          "data": {
            "text/html": [
              "<div>\n",
              "<style scoped>\n",
              "    .dataframe tbody tr th:only-of-type {\n",
              "        vertical-align: middle;\n",
              "    }\n",
              "\n",
              "    .dataframe tbody tr th {\n",
              "        vertical-align: top;\n",
              "    }\n",
              "\n",
              "    .dataframe thead th {\n",
              "        text-align: right;\n",
              "    }\n",
              "</style>\n",
              "<table border=\"1\" class=\"dataframe\">\n",
              "  <thead>\n",
              "    <tr style=\"text-align: right;\">\n",
              "      <th></th>\n",
              "      <th>age</th>\n",
              "      <th>sex</th>\n",
              "      <th>chest pain type</th>\n",
              "      <th>resting bp s</th>\n",
              "      <th>cholesterol</th>\n",
              "      <th>fasting blood sugar</th>\n",
              "      <th>resting ecg</th>\n",
              "      <th>max heart rate</th>\n",
              "      <th>exercise angina</th>\n",
              "      <th>oldpeak</th>\n",
              "      <th>ST slope</th>\n",
              "      <th>target</th>\n",
              "    </tr>\n",
              "  </thead>\n",
              "  <tbody>\n",
              "    <tr>\n",
              "      <th>0</th>\n",
              "      <td>40</td>\n",
              "      <td>male</td>\n",
              "      <td>atypical chest pain</td>\n",
              "      <td>140</td>\n",
              "      <td>289</td>\n",
              "      <td>0</td>\n",
              "      <td>0</td>\n",
              "      <td>172</td>\n",
              "      <td>0</td>\n",
              "      <td>0.0</td>\n",
              "      <td>1</td>\n",
              "      <td>0</td>\n",
              "    </tr>\n",
              "    <tr>\n",
              "      <th>1</th>\n",
              "      <td>49</td>\n",
              "      <td>female</td>\n",
              "      <td>non cardiac chest pain</td>\n",
              "      <td>160</td>\n",
              "      <td>180</td>\n",
              "      <td>0</td>\n",
              "      <td>0</td>\n",
              "      <td>156</td>\n",
              "      <td>0</td>\n",
              "      <td>1.0</td>\n",
              "      <td>2</td>\n",
              "      <td>1</td>\n",
              "    </tr>\n",
              "    <tr>\n",
              "      <th>2</th>\n",
              "      <td>37</td>\n",
              "      <td>male</td>\n",
              "      <td>atypical chest pain</td>\n",
              "      <td>130</td>\n",
              "      <td>283</td>\n",
              "      <td>0</td>\n",
              "      <td>1</td>\n",
              "      <td>98</td>\n",
              "      <td>0</td>\n",
              "      <td>0.0</td>\n",
              "      <td>1</td>\n",
              "      <td>0</td>\n",
              "    </tr>\n",
              "    <tr>\n",
              "      <th>3</th>\n",
              "      <td>48</td>\n",
              "      <td>female</td>\n",
              "      <td>asymptomatic chest pain</td>\n",
              "      <td>138</td>\n",
              "      <td>214</td>\n",
              "      <td>0</td>\n",
              "      <td>0</td>\n",
              "      <td>108</td>\n",
              "      <td>1</td>\n",
              "      <td>1.5</td>\n",
              "      <td>2</td>\n",
              "      <td>1</td>\n",
              "    </tr>\n",
              "    <tr>\n",
              "      <th>4</th>\n",
              "      <td>54</td>\n",
              "      <td>male</td>\n",
              "      <td>non cardiac chest pain</td>\n",
              "      <td>150</td>\n",
              "      <td>195</td>\n",
              "      <td>0</td>\n",
              "      <td>0</td>\n",
              "      <td>122</td>\n",
              "      <td>0</td>\n",
              "      <td>0.0</td>\n",
              "      <td>1</td>\n",
              "      <td>0</td>\n",
              "    </tr>\n",
              "  </tbody>\n",
              "</table>\n",
              "</div>"
            ],
            "text/plain": [
              "   age     sex          chest pain type  ...  oldpeak  ST slope  target\n",
              "0   40    male      atypical chest pain  ...      0.0         1       0\n",
              "1   49  female   non cardiac chest pain  ...      1.0         2       1\n",
              "2   37    male      atypical chest pain  ...      0.0         1       0\n",
              "3   48  female  asymptomatic chest pain  ...      1.5         2       1\n",
              "4   54    male   non cardiac chest pain  ...      0.0         1       0\n",
              "\n",
              "[5 rows x 12 columns]"
            ]
          },
          "metadata": {},
          "execution_count": 86
        }
      ]
    },
    {
      "cell_type": "code",
      "metadata": {
        "colab": {
          "base_uri": "https://localhost:8080/"
        },
        "id": "FjxIyfDp4CdD",
        "outputId": "6453c78e-903e-48fb-cbf3-f69847dbf6e4"
      },
      "source": [
        "data['chest pain type'].value_counts()"
      ],
      "id": "FjxIyfDp4CdD",
      "execution_count": 87,
      "outputs": [
        {
          "output_type": "execute_result",
          "data": {
            "text/plain": [
              "asymptomatic chest pain    625\n",
              "non cardiac chest pain     283\n",
              "atypical chest pain        216\n",
              "typical chest pain          66\n",
              "Name: chest pain type, dtype: int64"
            ]
          },
          "metadata": {},
          "execution_count": 87
        }
      ]
    },
    {
      "cell_type": "code",
      "metadata": {
        "colab": {
          "base_uri": "https://localhost:8080/"
        },
        "id": "qFozkz4dt1zr",
        "outputId": "39fbf1fd-e6c5-42e7-a12b-3a02f6757a85"
      },
      "source": [
        "data['resting ecg'].unique()"
      ],
      "id": "qFozkz4dt1zr",
      "execution_count": 88,
      "outputs": [
        {
          "output_type": "execute_result",
          "data": {
            "text/plain": [
              "array([0, 1, 2])"
            ]
          },
          "metadata": {},
          "execution_count": 88
        }
      ]
    },
    {
      "cell_type": "code",
      "metadata": {
        "colab": {
          "base_uri": "https://localhost:8080/",
          "height": 323
        },
        "id": "f036954c",
        "outputId": "3c553f51-f27a-40ad-ba56-e1619d7f9e9b"
      },
      "source": [
        "##Converting values in the column 'resting ecg' to their actual representation\n",
        "\n",
        "#Converting 'resting ecg': 0 to 'normal'\n",
        "data = data.replace({'resting ecg': 0}, \"normal\")\n",
        "#Converting sex: 'resting ecg': 1 to 'st-t wave abnormality'\n",
        "data = data.replace({'resting ecg': 1}, \"st-t wave abnormality\")\n",
        "#Converting 'resting ecg': 2 to 'left ventricular hypertrophy'\n",
        "data = data.replace({'resting ecg': 2}, \"left ventricular hypertrophy\")\n",
        "\n",
        "data.head()"
      ],
      "id": "f036954c",
      "execution_count": 89,
      "outputs": [
        {
          "output_type": "execute_result",
          "data": {
            "text/html": [
              "<div>\n",
              "<style scoped>\n",
              "    .dataframe tbody tr th:only-of-type {\n",
              "        vertical-align: middle;\n",
              "    }\n",
              "\n",
              "    .dataframe tbody tr th {\n",
              "        vertical-align: top;\n",
              "    }\n",
              "\n",
              "    .dataframe thead th {\n",
              "        text-align: right;\n",
              "    }\n",
              "</style>\n",
              "<table border=\"1\" class=\"dataframe\">\n",
              "  <thead>\n",
              "    <tr style=\"text-align: right;\">\n",
              "      <th></th>\n",
              "      <th>age</th>\n",
              "      <th>sex</th>\n",
              "      <th>chest pain type</th>\n",
              "      <th>resting bp s</th>\n",
              "      <th>cholesterol</th>\n",
              "      <th>fasting blood sugar</th>\n",
              "      <th>resting ecg</th>\n",
              "      <th>max heart rate</th>\n",
              "      <th>exercise angina</th>\n",
              "      <th>oldpeak</th>\n",
              "      <th>ST slope</th>\n",
              "      <th>target</th>\n",
              "    </tr>\n",
              "  </thead>\n",
              "  <tbody>\n",
              "    <tr>\n",
              "      <th>0</th>\n",
              "      <td>40</td>\n",
              "      <td>male</td>\n",
              "      <td>atypical chest pain</td>\n",
              "      <td>140</td>\n",
              "      <td>289</td>\n",
              "      <td>0</td>\n",
              "      <td>normal</td>\n",
              "      <td>172</td>\n",
              "      <td>0</td>\n",
              "      <td>0.0</td>\n",
              "      <td>1</td>\n",
              "      <td>0</td>\n",
              "    </tr>\n",
              "    <tr>\n",
              "      <th>1</th>\n",
              "      <td>49</td>\n",
              "      <td>female</td>\n",
              "      <td>non cardiac chest pain</td>\n",
              "      <td>160</td>\n",
              "      <td>180</td>\n",
              "      <td>0</td>\n",
              "      <td>normal</td>\n",
              "      <td>156</td>\n",
              "      <td>0</td>\n",
              "      <td>1.0</td>\n",
              "      <td>2</td>\n",
              "      <td>1</td>\n",
              "    </tr>\n",
              "    <tr>\n",
              "      <th>2</th>\n",
              "      <td>37</td>\n",
              "      <td>male</td>\n",
              "      <td>atypical chest pain</td>\n",
              "      <td>130</td>\n",
              "      <td>283</td>\n",
              "      <td>0</td>\n",
              "      <td>st-t wave abnormality</td>\n",
              "      <td>98</td>\n",
              "      <td>0</td>\n",
              "      <td>0.0</td>\n",
              "      <td>1</td>\n",
              "      <td>0</td>\n",
              "    </tr>\n",
              "    <tr>\n",
              "      <th>3</th>\n",
              "      <td>48</td>\n",
              "      <td>female</td>\n",
              "      <td>asymptomatic chest pain</td>\n",
              "      <td>138</td>\n",
              "      <td>214</td>\n",
              "      <td>0</td>\n",
              "      <td>normal</td>\n",
              "      <td>108</td>\n",
              "      <td>1</td>\n",
              "      <td>1.5</td>\n",
              "      <td>2</td>\n",
              "      <td>1</td>\n",
              "    </tr>\n",
              "    <tr>\n",
              "      <th>4</th>\n",
              "      <td>54</td>\n",
              "      <td>male</td>\n",
              "      <td>non cardiac chest pain</td>\n",
              "      <td>150</td>\n",
              "      <td>195</td>\n",
              "      <td>0</td>\n",
              "      <td>normal</td>\n",
              "      <td>122</td>\n",
              "      <td>0</td>\n",
              "      <td>0.0</td>\n",
              "      <td>1</td>\n",
              "      <td>0</td>\n",
              "    </tr>\n",
              "  </tbody>\n",
              "</table>\n",
              "</div>"
            ],
            "text/plain": [
              "   age     sex          chest pain type  ...  oldpeak  ST slope  target\n",
              "0   40    male      atypical chest pain  ...      0.0         1       0\n",
              "1   49  female   non cardiac chest pain  ...      1.0         2       1\n",
              "2   37    male      atypical chest pain  ...      0.0         1       0\n",
              "3   48  female  asymptomatic chest pain  ...      1.5         2       1\n",
              "4   54    male   non cardiac chest pain  ...      0.0         1       0\n",
              "\n",
              "[5 rows x 12 columns]"
            ]
          },
          "metadata": {},
          "execution_count": 89
        }
      ]
    },
    {
      "cell_type": "code",
      "metadata": {
        "colab": {
          "base_uri": "https://localhost:8080/"
        },
        "id": "YcSpJ0xF34ii",
        "outputId": "dc227351-9558-451f-d1eb-9ec3051276a3"
      },
      "source": [
        "data['resting ecg'].value_counts()"
      ],
      "id": "YcSpJ0xF34ii",
      "execution_count": 90,
      "outputs": [
        {
          "output_type": "execute_result",
          "data": {
            "text/plain": [
              "normal                          684\n",
              "left ventricular hypertrophy    325\n",
              "st-t wave abnormality           181\n",
              "Name: resting ecg, dtype: int64"
            ]
          },
          "metadata": {},
          "execution_count": 90
        }
      ]
    },
    {
      "cell_type": "code",
      "metadata": {
        "colab": {
          "base_uri": "https://localhost:8080/"
        },
        "id": "NP5uD90Kt_Fi",
        "outputId": "6ef04039-4a33-4428-b37b-955bc90f0fe2"
      },
      "source": [
        "data['ST slope'].unique()"
      ],
      "id": "NP5uD90Kt_Fi",
      "execution_count": 91,
      "outputs": [
        {
          "output_type": "execute_result",
          "data": {
            "text/plain": [
              "array([1, 2, 3, 0])"
            ]
          },
          "metadata": {},
          "execution_count": 91
        }
      ]
    },
    {
      "cell_type": "code",
      "metadata": {
        "colab": {
          "base_uri": "https://localhost:8080/",
          "height": 323
        },
        "id": "zrlYYGd8u1RI",
        "outputId": "276686b5-e41d-4ab5-97a9-1cd4f8eb015f"
      },
      "source": [
        "##For the column 'ST slope', the values are represented as follows: (0: Normal), (1,upsloping), (2, flat), (3, downsloping)\n",
        "\n",
        "#Converting 'ST slope': 0 to 'normal'\n",
        "data = data.replace({'ST slope': 0}, \"normal\")\n",
        "#Converting sex: 'ST slope': 1 to 'upsloping'\n",
        "data = data.replace({'ST slope': 1}, \"upsloping\")\n",
        "#Converting 'ST slope': 2 to 'flat'\n",
        "data = data.replace({'ST slope': 2}, \"flat\")\n",
        "#Converting 'ST slope': 3 to 'downsloping'\n",
        "data = data.replace({'ST slope': 3}, \"downsloping\")\n",
        "\n",
        "data.head()\n"
      ],
      "id": "zrlYYGd8u1RI",
      "execution_count": 92,
      "outputs": [
        {
          "output_type": "execute_result",
          "data": {
            "text/html": [
              "<div>\n",
              "<style scoped>\n",
              "    .dataframe tbody tr th:only-of-type {\n",
              "        vertical-align: middle;\n",
              "    }\n",
              "\n",
              "    .dataframe tbody tr th {\n",
              "        vertical-align: top;\n",
              "    }\n",
              "\n",
              "    .dataframe thead th {\n",
              "        text-align: right;\n",
              "    }\n",
              "</style>\n",
              "<table border=\"1\" class=\"dataframe\">\n",
              "  <thead>\n",
              "    <tr style=\"text-align: right;\">\n",
              "      <th></th>\n",
              "      <th>age</th>\n",
              "      <th>sex</th>\n",
              "      <th>chest pain type</th>\n",
              "      <th>resting bp s</th>\n",
              "      <th>cholesterol</th>\n",
              "      <th>fasting blood sugar</th>\n",
              "      <th>resting ecg</th>\n",
              "      <th>max heart rate</th>\n",
              "      <th>exercise angina</th>\n",
              "      <th>oldpeak</th>\n",
              "      <th>ST slope</th>\n",
              "      <th>target</th>\n",
              "    </tr>\n",
              "  </thead>\n",
              "  <tbody>\n",
              "    <tr>\n",
              "      <th>0</th>\n",
              "      <td>40</td>\n",
              "      <td>male</td>\n",
              "      <td>atypical chest pain</td>\n",
              "      <td>140</td>\n",
              "      <td>289</td>\n",
              "      <td>0</td>\n",
              "      <td>normal</td>\n",
              "      <td>172</td>\n",
              "      <td>0</td>\n",
              "      <td>0.0</td>\n",
              "      <td>upsloping</td>\n",
              "      <td>0</td>\n",
              "    </tr>\n",
              "    <tr>\n",
              "      <th>1</th>\n",
              "      <td>49</td>\n",
              "      <td>female</td>\n",
              "      <td>non cardiac chest pain</td>\n",
              "      <td>160</td>\n",
              "      <td>180</td>\n",
              "      <td>0</td>\n",
              "      <td>normal</td>\n",
              "      <td>156</td>\n",
              "      <td>0</td>\n",
              "      <td>1.0</td>\n",
              "      <td>flat</td>\n",
              "      <td>1</td>\n",
              "    </tr>\n",
              "    <tr>\n",
              "      <th>2</th>\n",
              "      <td>37</td>\n",
              "      <td>male</td>\n",
              "      <td>atypical chest pain</td>\n",
              "      <td>130</td>\n",
              "      <td>283</td>\n",
              "      <td>0</td>\n",
              "      <td>st-t wave abnormality</td>\n",
              "      <td>98</td>\n",
              "      <td>0</td>\n",
              "      <td>0.0</td>\n",
              "      <td>upsloping</td>\n",
              "      <td>0</td>\n",
              "    </tr>\n",
              "    <tr>\n",
              "      <th>3</th>\n",
              "      <td>48</td>\n",
              "      <td>female</td>\n",
              "      <td>asymptomatic chest pain</td>\n",
              "      <td>138</td>\n",
              "      <td>214</td>\n",
              "      <td>0</td>\n",
              "      <td>normal</td>\n",
              "      <td>108</td>\n",
              "      <td>1</td>\n",
              "      <td>1.5</td>\n",
              "      <td>flat</td>\n",
              "      <td>1</td>\n",
              "    </tr>\n",
              "    <tr>\n",
              "      <th>4</th>\n",
              "      <td>54</td>\n",
              "      <td>male</td>\n",
              "      <td>non cardiac chest pain</td>\n",
              "      <td>150</td>\n",
              "      <td>195</td>\n",
              "      <td>0</td>\n",
              "      <td>normal</td>\n",
              "      <td>122</td>\n",
              "      <td>0</td>\n",
              "      <td>0.0</td>\n",
              "      <td>upsloping</td>\n",
              "      <td>0</td>\n",
              "    </tr>\n",
              "  </tbody>\n",
              "</table>\n",
              "</div>"
            ],
            "text/plain": [
              "   age     sex          chest pain type  ...  oldpeak   ST slope  target\n",
              "0   40    male      atypical chest pain  ...      0.0  upsloping       0\n",
              "1   49  female   non cardiac chest pain  ...      1.0       flat       1\n",
              "2   37    male      atypical chest pain  ...      0.0  upsloping       0\n",
              "3   48  female  asymptomatic chest pain  ...      1.5       flat       1\n",
              "4   54    male   non cardiac chest pain  ...      0.0  upsloping       0\n",
              "\n",
              "[5 rows x 12 columns]"
            ]
          },
          "metadata": {},
          "execution_count": 92
        }
      ]
    },
    {
      "cell_type": "code",
      "metadata": {
        "colab": {
          "base_uri": "https://localhost:8080/"
        },
        "id": "itV5CcXV4hmY",
        "outputId": "e765f192-0d90-4fef-e3de-7759991e106a"
      },
      "source": [
        "data['ST slope'].value_counts()"
      ],
      "id": "itV5CcXV4hmY",
      "execution_count": 93,
      "outputs": [
        {
          "output_type": "execute_result",
          "data": {
            "text/plain": [
              "flat           582\n",
              "upsloping      526\n",
              "downsloping     81\n",
              "normal           1\n",
              "Name: ST slope, dtype: int64"
            ]
          },
          "metadata": {},
          "execution_count": 93
        }
      ]
    },
    {
      "cell_type": "code",
      "metadata": {
        "id": "5Wu5zpPJm21l"
      },
      "source": [
        "#We only have 1 record for ST slope: Normal, we can remove it as it cannot help during training.\n",
        "\n",
        "index = data[ data['ST slope'] == 'normal'].index\n",
        "# Delete these row indexes from dataFrame\n",
        "data.drop(index, inplace=True)"
      ],
      "id": "5Wu5zpPJm21l",
      "execution_count": 94,
      "outputs": []
    },
    {
      "cell_type": "code",
      "metadata": {
        "colab": {
          "base_uri": "https://localhost:8080/"
        },
        "id": "Hz9Xhxy46yN2",
        "outputId": "2126edf3-20fe-4a86-ecd4-a9d6c59fbffd"
      },
      "source": [
        "data['ST slope'].value_counts()"
      ],
      "id": "Hz9Xhxy46yN2",
      "execution_count": 95,
      "outputs": [
        {
          "output_type": "execute_result",
          "data": {
            "text/plain": [
              "flat           582\n",
              "upsloping      526\n",
              "downsloping     81\n",
              "Name: ST slope, dtype: int64"
            ]
          },
          "metadata": {},
          "execution_count": 95
        }
      ]
    },
    {
      "cell_type": "code",
      "metadata": {
        "colab": {
          "base_uri": "https://localhost:8080/",
          "height": 323
        },
        "id": "928da3b1",
        "outputId": "c62a56ed-5974-42da-8c8e-72327b85a17f"
      },
      "source": [
        "data.head()"
      ],
      "id": "928da3b1",
      "execution_count": 96,
      "outputs": [
        {
          "output_type": "execute_result",
          "data": {
            "text/html": [
              "<div>\n",
              "<style scoped>\n",
              "    .dataframe tbody tr th:only-of-type {\n",
              "        vertical-align: middle;\n",
              "    }\n",
              "\n",
              "    .dataframe tbody tr th {\n",
              "        vertical-align: top;\n",
              "    }\n",
              "\n",
              "    .dataframe thead th {\n",
              "        text-align: right;\n",
              "    }\n",
              "</style>\n",
              "<table border=\"1\" class=\"dataframe\">\n",
              "  <thead>\n",
              "    <tr style=\"text-align: right;\">\n",
              "      <th></th>\n",
              "      <th>age</th>\n",
              "      <th>sex</th>\n",
              "      <th>chest pain type</th>\n",
              "      <th>resting bp s</th>\n",
              "      <th>cholesterol</th>\n",
              "      <th>fasting blood sugar</th>\n",
              "      <th>resting ecg</th>\n",
              "      <th>max heart rate</th>\n",
              "      <th>exercise angina</th>\n",
              "      <th>oldpeak</th>\n",
              "      <th>ST slope</th>\n",
              "      <th>target</th>\n",
              "    </tr>\n",
              "  </thead>\n",
              "  <tbody>\n",
              "    <tr>\n",
              "      <th>0</th>\n",
              "      <td>40</td>\n",
              "      <td>male</td>\n",
              "      <td>atypical chest pain</td>\n",
              "      <td>140</td>\n",
              "      <td>289</td>\n",
              "      <td>0</td>\n",
              "      <td>normal</td>\n",
              "      <td>172</td>\n",
              "      <td>0</td>\n",
              "      <td>0.0</td>\n",
              "      <td>upsloping</td>\n",
              "      <td>0</td>\n",
              "    </tr>\n",
              "    <tr>\n",
              "      <th>1</th>\n",
              "      <td>49</td>\n",
              "      <td>female</td>\n",
              "      <td>non cardiac chest pain</td>\n",
              "      <td>160</td>\n",
              "      <td>180</td>\n",
              "      <td>0</td>\n",
              "      <td>normal</td>\n",
              "      <td>156</td>\n",
              "      <td>0</td>\n",
              "      <td>1.0</td>\n",
              "      <td>flat</td>\n",
              "      <td>1</td>\n",
              "    </tr>\n",
              "    <tr>\n",
              "      <th>2</th>\n",
              "      <td>37</td>\n",
              "      <td>male</td>\n",
              "      <td>atypical chest pain</td>\n",
              "      <td>130</td>\n",
              "      <td>283</td>\n",
              "      <td>0</td>\n",
              "      <td>st-t wave abnormality</td>\n",
              "      <td>98</td>\n",
              "      <td>0</td>\n",
              "      <td>0.0</td>\n",
              "      <td>upsloping</td>\n",
              "      <td>0</td>\n",
              "    </tr>\n",
              "    <tr>\n",
              "      <th>3</th>\n",
              "      <td>48</td>\n",
              "      <td>female</td>\n",
              "      <td>asymptomatic chest pain</td>\n",
              "      <td>138</td>\n",
              "      <td>214</td>\n",
              "      <td>0</td>\n",
              "      <td>normal</td>\n",
              "      <td>108</td>\n",
              "      <td>1</td>\n",
              "      <td>1.5</td>\n",
              "      <td>flat</td>\n",
              "      <td>1</td>\n",
              "    </tr>\n",
              "    <tr>\n",
              "      <th>4</th>\n",
              "      <td>54</td>\n",
              "      <td>male</td>\n",
              "      <td>non cardiac chest pain</td>\n",
              "      <td>150</td>\n",
              "      <td>195</td>\n",
              "      <td>0</td>\n",
              "      <td>normal</td>\n",
              "      <td>122</td>\n",
              "      <td>0</td>\n",
              "      <td>0.0</td>\n",
              "      <td>upsloping</td>\n",
              "      <td>0</td>\n",
              "    </tr>\n",
              "  </tbody>\n",
              "</table>\n",
              "</div>"
            ],
            "text/plain": [
              "   age     sex          chest pain type  ...  oldpeak   ST slope  target\n",
              "0   40    male      atypical chest pain  ...      0.0  upsloping       0\n",
              "1   49  female   non cardiac chest pain  ...      1.0       flat       1\n",
              "2   37    male      atypical chest pain  ...      0.0  upsloping       0\n",
              "3   48  female  asymptomatic chest pain  ...      1.5       flat       1\n",
              "4   54    male   non cardiac chest pain  ...      0.0  upsloping       0\n",
              "\n",
              "[5 rows x 12 columns]"
            ]
          },
          "metadata": {},
          "execution_count": 96
        }
      ]
    },
    {
      "cell_type": "code",
      "metadata": {
        "colab": {
          "base_uri": "https://localhost:8080/"
        },
        "id": "67d83fa3",
        "outputId": "c1d07950-6958-4b2c-b64b-01c673766942"
      },
      "source": [
        "## Check if there are any missing values. No missing values, so no processing needed to delete records.\n",
        "data.isna().sum()"
      ],
      "id": "67d83fa3",
      "execution_count": 97,
      "outputs": [
        {
          "output_type": "execute_result",
          "data": {
            "text/plain": [
              "age                    0\n",
              "sex                    0\n",
              "chest pain type        0\n",
              "resting bp s           0\n",
              "cholesterol            0\n",
              "fasting blood sugar    0\n",
              "resting ecg            0\n",
              "max heart rate         0\n",
              "exercise angina        0\n",
              "oldpeak                0\n",
              "ST slope               0\n",
              "target                 0\n",
              "dtype: int64"
            ]
          },
          "metadata": {},
          "execution_count": 97
        }
      ]
    },
    {
      "cell_type": "code",
      "metadata": {
        "colab": {
          "base_uri": "https://localhost:8080/",
          "height": 314
        },
        "id": "f59a8c36",
        "outputId": "80f6a6a8-286d-4c3d-8e3b-73b34d353c04"
      },
      "source": [
        "#statics of the columns which are numerical\n",
        "data.describe(include =[np.number])"
      ],
      "id": "f59a8c36",
      "execution_count": 98,
      "outputs": [
        {
          "output_type": "execute_result",
          "data": {
            "text/html": [
              "<div>\n",
              "<style scoped>\n",
              "    .dataframe tbody tr th:only-of-type {\n",
              "        vertical-align: middle;\n",
              "    }\n",
              "\n",
              "    .dataframe tbody tr th {\n",
              "        vertical-align: top;\n",
              "    }\n",
              "\n",
              "    .dataframe thead th {\n",
              "        text-align: right;\n",
              "    }\n",
              "</style>\n",
              "<table border=\"1\" class=\"dataframe\">\n",
              "  <thead>\n",
              "    <tr style=\"text-align: right;\">\n",
              "      <th></th>\n",
              "      <th>age</th>\n",
              "      <th>resting bp s</th>\n",
              "      <th>cholesterol</th>\n",
              "      <th>fasting blood sugar</th>\n",
              "      <th>max heart rate</th>\n",
              "      <th>exercise angina</th>\n",
              "      <th>oldpeak</th>\n",
              "      <th>target</th>\n",
              "    </tr>\n",
              "  </thead>\n",
              "  <tbody>\n",
              "    <tr>\n",
              "      <th>count</th>\n",
              "      <td>1189.000000</td>\n",
              "      <td>1189.000000</td>\n",
              "      <td>1189.000000</td>\n",
              "      <td>1189.000000</td>\n",
              "      <td>1189.000000</td>\n",
              "      <td>1189.000000</td>\n",
              "      <td>1189.000000</td>\n",
              "      <td>1189.000000</td>\n",
              "    </tr>\n",
              "    <tr>\n",
              "      <th>mean</th>\n",
              "      <td>53.708158</td>\n",
              "      <td>132.138772</td>\n",
              "      <td>210.376787</td>\n",
              "      <td>0.212784</td>\n",
              "      <td>139.739277</td>\n",
              "      <td>0.387721</td>\n",
              "      <td>0.923549</td>\n",
              "      <td>0.528175</td>\n",
              "    </tr>\n",
              "    <tr>\n",
              "      <th>std</th>\n",
              "      <td>9.352961</td>\n",
              "      <td>18.369251</td>\n",
              "      <td>101.462185</td>\n",
              "      <td>0.409448</td>\n",
              "      <td>25.527386</td>\n",
              "      <td>0.487435</td>\n",
              "      <td>1.086464</td>\n",
              "      <td>0.499416</td>\n",
              "    </tr>\n",
              "    <tr>\n",
              "      <th>min</th>\n",
              "      <td>28.000000</td>\n",
              "      <td>0.000000</td>\n",
              "      <td>0.000000</td>\n",
              "      <td>0.000000</td>\n",
              "      <td>60.000000</td>\n",
              "      <td>0.000000</td>\n",
              "      <td>-2.600000</td>\n",
              "      <td>0.000000</td>\n",
              "    </tr>\n",
              "    <tr>\n",
              "      <th>25%</th>\n",
              "      <td>47.000000</td>\n",
              "      <td>120.000000</td>\n",
              "      <td>188.000000</td>\n",
              "      <td>0.000000</td>\n",
              "      <td>121.000000</td>\n",
              "      <td>0.000000</td>\n",
              "      <td>0.000000</td>\n",
              "      <td>0.000000</td>\n",
              "    </tr>\n",
              "    <tr>\n",
              "      <th>50%</th>\n",
              "      <td>54.000000</td>\n",
              "      <td>130.000000</td>\n",
              "      <td>229.000000</td>\n",
              "      <td>0.000000</td>\n",
              "      <td>141.000000</td>\n",
              "      <td>0.000000</td>\n",
              "      <td>0.600000</td>\n",
              "      <td>1.000000</td>\n",
              "    </tr>\n",
              "    <tr>\n",
              "      <th>75%</th>\n",
              "      <td>60.000000</td>\n",
              "      <td>140.000000</td>\n",
              "      <td>270.000000</td>\n",
              "      <td>0.000000</td>\n",
              "      <td>160.000000</td>\n",
              "      <td>1.000000</td>\n",
              "      <td>1.600000</td>\n",
              "      <td>1.000000</td>\n",
              "    </tr>\n",
              "    <tr>\n",
              "      <th>max</th>\n",
              "      <td>77.000000</td>\n",
              "      <td>200.000000</td>\n",
              "      <td>603.000000</td>\n",
              "      <td>1.000000</td>\n",
              "      <td>202.000000</td>\n",
              "      <td>1.000000</td>\n",
              "      <td>6.200000</td>\n",
              "      <td>1.000000</td>\n",
              "    </tr>\n",
              "  </tbody>\n",
              "</table>\n",
              "</div>"
            ],
            "text/plain": [
              "               age  resting bp s  ...      oldpeak       target\n",
              "count  1189.000000   1189.000000  ...  1189.000000  1189.000000\n",
              "mean     53.708158    132.138772  ...     0.923549     0.528175\n",
              "std       9.352961     18.369251  ...     1.086464     0.499416\n",
              "min      28.000000      0.000000  ...    -2.600000     0.000000\n",
              "25%      47.000000    120.000000  ...     0.000000     0.000000\n",
              "50%      54.000000    130.000000  ...     0.600000     1.000000\n",
              "75%      60.000000    140.000000  ...     1.600000     1.000000\n",
              "max      77.000000    200.000000  ...     6.200000     1.000000\n",
              "\n",
              "[8 rows x 8 columns]"
            ]
          },
          "metadata": {},
          "execution_count": 98
        }
      ]
    },
    {
      "cell_type": "code",
      "metadata": {
        "colab": {
          "base_uri": "https://localhost:8080/",
          "height": 173
        },
        "id": "d052d243",
        "outputId": "cad35b20-92e5-4c13-9bc9-243dd65e56b6"
      },
      "source": [
        "#statistics of all the categorical columns in the dataframe\n",
        "data.describe(include =[np.object])"
      ],
      "id": "d052d243",
      "execution_count": 99,
      "outputs": [
        {
          "output_type": "execute_result",
          "data": {
            "text/html": [
              "<div>\n",
              "<style scoped>\n",
              "    .dataframe tbody tr th:only-of-type {\n",
              "        vertical-align: middle;\n",
              "    }\n",
              "\n",
              "    .dataframe tbody tr th {\n",
              "        vertical-align: top;\n",
              "    }\n",
              "\n",
              "    .dataframe thead th {\n",
              "        text-align: right;\n",
              "    }\n",
              "</style>\n",
              "<table border=\"1\" class=\"dataframe\">\n",
              "  <thead>\n",
              "    <tr style=\"text-align: right;\">\n",
              "      <th></th>\n",
              "      <th>sex</th>\n",
              "      <th>chest pain type</th>\n",
              "      <th>resting ecg</th>\n",
              "      <th>ST slope</th>\n",
              "    </tr>\n",
              "  </thead>\n",
              "  <tbody>\n",
              "    <tr>\n",
              "      <th>count</th>\n",
              "      <td>1189</td>\n",
              "      <td>1189</td>\n",
              "      <td>1189</td>\n",
              "      <td>1189</td>\n",
              "    </tr>\n",
              "    <tr>\n",
              "      <th>unique</th>\n",
              "      <td>2</td>\n",
              "      <td>4</td>\n",
              "      <td>3</td>\n",
              "      <td>3</td>\n",
              "    </tr>\n",
              "    <tr>\n",
              "      <th>top</th>\n",
              "      <td>male</td>\n",
              "      <td>asymptomatic chest pain</td>\n",
              "      <td>normal</td>\n",
              "      <td>flat</td>\n",
              "    </tr>\n",
              "    <tr>\n",
              "      <th>freq</th>\n",
              "      <td>908</td>\n",
              "      <td>625</td>\n",
              "      <td>683</td>\n",
              "      <td>582</td>\n",
              "    </tr>\n",
              "  </tbody>\n",
              "</table>\n",
              "</div>"
            ],
            "text/plain": [
              "         sex          chest pain type resting ecg ST slope\n",
              "count   1189                     1189        1189     1189\n",
              "unique     2                        4           3        3\n",
              "top     male  asymptomatic chest pain      normal     flat\n",
              "freq     908                      625         683      582"
            ]
          },
          "metadata": {},
          "execution_count": 99
        }
      ]
    },
    {
      "cell_type": "markdown",
      "metadata": {
        "id": "gHwnABwq9LAU"
      },
      "source": [
        "**Data Visualization**"
      ],
      "id": "gHwnABwq9LAU"
    },
    {
      "cell_type": "code",
      "metadata": {
        "colab": {
          "base_uri": "https://localhost:8080/",
          "height": 444
        },
        "id": "ZnIl2egt9SJ2",
        "outputId": "a5df898e-c4d4-49bb-f644-5c148109d1a5"
      },
      "source": [
        "##Figure to indicate Heart Disease.\n",
        "#Target:  0: No heart disease, 1: Heart disease\n",
        "\n",
        "target = data['target']\n",
        "\n",
        "fig = plt.figure(figsize=(15,7))\n",
        "plt.subplot(1, 2, 1)\n",
        "plt.title('Percentage of Heart Disease Patients')\n",
        "plt.pie(data[\"target\"].value_counts().values, labels = [\"Heart Disease\",\"Normal\"],autopct='%1.0f%%')\n",
        "plt.legend()\n",
        "plt.subplot(1,2,2)\n",
        "plt.title('Number of Heart Disease Patients')\n",
        "data[\"target\"].value_counts().plot(kind=\"barh\")\n",
        "for i,j in enumerate(data[\"target\"].value_counts().values):\n",
        "    plt.text(300,i,j,fontsize=12,horizontalalignment= 'left')\n",
        "\n",
        "\n",
        "plt.show()"
      ],
      "id": "ZnIl2egt9SJ2",
      "execution_count": 100,
      "outputs": [
        {
          "output_type": "display_data",
          "data": {
            "image/png": "[encoded data removed]",
            "text/plain": [
              "<Figure size 1080x504 with 2 Axes>"
            ]
          },
          "metadata": {
            "needs_background": "light"
          }
        }
      ]
    },
    {
      "cell_type": "code",
      "metadata": {
        "colab": {
          "base_uri": "https://localhost:8080/",
          "height": 482
        },
        "id": "2D7fcu1AGrK1",
        "outputId": "8833d5e4-5054-4c77-891e-bb18bb4cf499"
      },
      "source": [
        "plt.figure(figsize=(10,8))\n",
        "plt.pie(data[\"sex\"].value_counts().values,autopct = \"%1.0f%%\",startangle = 30,labels=[\"Male\",\"Female\"],explode=[.05,.05])\n",
        "plt.title(\"Distribution of Gender\")\n",
        "plt.show()"
      ],
      "id": "2D7fcu1AGrK1",
      "execution_count": 101,
      "outputs": [
        {
          "output_type": "display_data",
          "data": {
            "image/png": "[encoded data removed]",
            "text/plain": [
              "<Figure size 720x576 with 1 Axes>"
            ]
          },
          "metadata": {}
        }
      ]
    },
    {
      "cell_type": "code",
      "metadata": {
        "colab": {
          "base_uri": "https://localhost:8080/",
          "height": 482
        },
        "id": "n30hdQXxG_Vy",
        "outputId": "f960aec8-7203-4680-f823-6dcaf7f9aac5"
      },
      "source": [
        "plt.figure(figsize=(10,8))\n",
        "plt.pie(data[\"sex\"].value_counts().values,autopct = \"%1.0f%%\",startangle = 30,labels=[\"Male\",\"Female\"],\n",
        "explode=[.05,.05])\n",
        "plt.title(\"Distribution of Gender\")\n",
        "plt.show()"
      ],
      "id": "n30hdQXxG_Vy",
      "execution_count": 102,
      "outputs": [
        {
          "output_type": "display_data",
          "data": {
            "image/png": "[encoded data removed]",
            "text/plain": [
              "<Figure size 720x576 with 1 Axes>"
            ]
          },
          "metadata": {}
        }
      ]
    },
    {
      "cell_type": "code",
      "metadata": {
        "colab": {
          "base_uri": "https://localhost:8080/",
          "height": 515
        },
        "id": "6-tWeK1Rz3iO",
        "outputId": "0237dd88-133b-427f-faf5-927b72b62240"
      },
      "source": [
        "###Figure to indicate relationship between Gender and Heart Disease.\n",
        "#Target:  0: No heart disease, 1: Heart disease\n",
        "fig = plt.figure(figsize=(12,8))\n",
        "\n",
        "sns.countplot(x = 'sex', hue = 'target', data = data, palette='viridis')\n",
        "plt.title('GENDER DISTRIBUTION OF PATIENTS', fontsize=15, weight='bold' )\n",
        "plt.show()\n"
      ],
      "id": "6-tWeK1Rz3iO",
      "execution_count": 103,
      "outputs": [
        {
          "output_type": "display_data",
          "data": {
            "image/png": "[encoded data removed]",
            "text/plain": [
              "<Figure size 864x576 with 1 Axes>"
            ]
          },
          "metadata": {
            "needs_background": "light"
          }
        }
      ]
    },
    {
      "cell_type": "code",
      "metadata": {
        "colab": {
          "base_uri": "https://localhost:8080/",
          "height": 513
        },
        "id": "pVBDSRyByxju",
        "outputId": "1c151947-5a8b-495b-e4f3-1d4f229e3611"
      },
      "source": [
        "plt.figure(figsize=(10,8))\n",
        "sns.histplot(data['age'],kde = 'True')\n",
        "plt.title(\"Age wise distribution\")\n",
        "plt.show()"
      ],
      "id": "pVBDSRyByxju",
      "execution_count": 104,
      "outputs": [
        {
          "output_type": "display_data",
          "data": {
            "image/png": "[encoded data removed]",
            "text/plain": [
              "<Figure size 720x576 with 1 Axes>"
            ]
          },
          "metadata": {
            "needs_background": "light"
          }
        }
      ]
    },
    {
      "cell_type": "code",
      "metadata": {
        "colab": {
          "base_uri": "https://localhost:8080/",
          "height": 687
        },
        "id": "eVrZOihz7epT",
        "outputId": "26405a10-2923-4a7c-9f91-2ff0effb1692"
      },
      "source": [
        "##Histogram to visualize age distribution among the patients\n",
        "\n",
        "normal_patients=data[data['target']==0]\n",
        "heart_patients=data[data['target']==1]\n",
        "\n",
        "fig = plt.figure(figsize=(15,5))\n",
        "sns.histplot(x = 'age', hue = 'target', data = data, kde = 'True', element='step')\n",
        "plt.title('Age distribution for all patients', fontsize=15)\n",
        "\n",
        "plt.show()\n",
        "\n",
        "normal_patients=data[data['target']==0]\n",
        "heart_patients=data[data['target']==1]\n",
        "\n",
        "fig = plt.figure(figsize=(15,5))\n",
        "plt.subplot(1,2,1)\n",
        "sns.histplot(normal_patients['age'], kde = 'True', element='step')\n",
        "plt.title('Age distribution for normal patients', fontsize=15)\n",
        "\n",
        "plt.subplot(1,2,2)\n",
        "sns.histplot(heart_patients['age'], kde = 'True', element='step')\n",
        "plt.title('Age distribution for patients with heart disease', fontsize=15)\n",
        "\n",
        "plt.show()"
      ],
      "id": "eVrZOihz7epT",
      "execution_count": 105,
      "outputs": [
        {
          "output_type": "display_data",
          "data": {
            "image/png": "[encoded data removed]",
            "text/plain": [
              "<Figure size 1080x360 with 1 Axes>"
            ]
          },
          "metadata": {
            "needs_background": "light"
          }
        },
        {
          "output_type": "display_data",
          "data": {
            "image/png": "[encoded data removed]",
            "text/plain": [
              "<Figure size 1080x360 with 2 Axes>"
            ]
          },
          "metadata": {
            "needs_background": "light"
          }
        }
      ]
    },
    {
      "cell_type": "code",
      "metadata": {
        "colab": {
          "base_uri": "https://localhost:8080/"
        },
        "id": "2e8-fu60-PZ2",
        "outputId": "20653485-a518-4027-a8ca-0033fe2eaf99"
      },
      "source": [
        "data[\"resting ecg\"].value_counts().values"
      ],
      "id": "2e8-fu60-PZ2",
      "execution_count": 106,
      "outputs": [
        {
          "output_type": "execute_result",
          "data": {
            "text/plain": [
              "array([683, 325, 181])"
            ]
          },
          "metadata": {},
          "execution_count": 106
        }
      ]
    },
    {
      "cell_type": "code",
      "metadata": {
        "colab": {
          "base_uri": "https://localhost:8080/",
          "height": 515
        },
        "id": "Z8H6WT6J8FSl",
        "outputId": "1822257e-f0e6-4e14-b23f-3ea52432e512"
      },
      "source": [
        "#Exploring the Heart Disease patients based on REST ECG\n",
        "\n",
        "fig = plt.figure(figsize=(12,8))\n",
        "\n",
        "sns.countplot(x = 'resting ecg', hue = 'target', palette= 'Blues_r', data = data)\n",
        "plt.title('Rest ECG of patients', fontsize=15, weight='bold' )\n",
        "\n",
        "plt.show()"
      ],
      "id": "Z8H6WT6J8FSl",
      "execution_count": 107,
      "outputs": [
        {
          "output_type": "display_data",
          "data": {
            "image/png": "[encoded data removed]",
            "text/plain": [
              "<Figure size 864x576 with 1 Axes>"
            ]
          },
          "metadata": {
            "needs_background": "light"
          }
        }
      ]
    },
    {
      "cell_type": "code",
      "metadata": {
        "colab": {
          "base_uri": "https://localhost:8080/",
          "height": 352
        },
        "id": "7c1fab65",
        "outputId": "a6cb91c6-c85a-47f5-fc58-ff5e4eaddcba"
      },
      "source": [
        "fig = plt.figure(figsize=(15,5))\n",
        "\n",
        "plt.subplot(1,2,1)\n",
        "sns.countplot(x = 'ST slope', hue = 'target', data = data,palette='crest')\n",
        "plt.title('ST Slope of Patients', fontsize = 15)\n",
        "plt.show()"
      ],
      "id": "7c1fab65",
      "execution_count": 108,
      "outputs": [
        {
          "output_type": "display_data",
          "data": {
            "image/png": "[encoded data removed]",
            "text/plain": [
              "<Figure size 1080x360 with 1 Axes>"
            ]
          },
          "metadata": {
            "needs_background": "light"
          }
        }
      ]
    },
    {
      "cell_type": "code",
      "metadata": {
        "colab": {
          "base_uri": "https://localhost:8080/",
          "height": 352
        },
        "id": "fwMghsCxQb67",
        "outputId": "31bff5f3-b50c-4fc2-8a77-619006b091bc"
      },
      "source": [
        "##Figure to indicate relationship between Blood Sugar and Heart Disease.\n",
        "#Target:  0: No heart disease, 1: Heart disease\n",
        "\n",
        "fig = plt.figure(figsize=(15,5))\n",
        "\n",
        "plt.subplot(1,2,1)\n",
        "sns.countplot(x = 'fasting blood sugar', hue = 'target', data = data,palette='icefire')\n",
        "plt.title('Blood Sugar of Patients on fasting > 120 mg/dl', fontsize = 15)\n",
        "plt.show()"
      ],
      "id": "fwMghsCxQb67",
      "execution_count": 109,
      "outputs": [
        {
          "output_type": "display_data",
          "data": {
            "image/png": "[encoded data removed]",
            "text/plain": [
              "<Figure size 1080x360 with 1 Axes>"
            ]
          },
          "metadata": {
            "needs_background": "light"
          }
        }
      ]
    },
    {
      "cell_type": "code",
      "metadata": {
        "colab": {
          "base_uri": "https://localhost:8080/",
          "height": 567
        },
        "id": "9f370cd5",
        "outputId": "fe9b17cc-f6ce-47b8-8ad8-a21cde217a59"
      },
      "source": [
        "##Figure to indicate relationship between Age, Blood Pressure and Cholesterol.\n",
        "#Target:  0: No heart disease, 1: Heart disease\n",
        "\n",
        "sns.pairplot(data, hue = 'target', vars = ['age', 'resting bp s', 'cholesterol'] )"
      ],
      "id": "9f370cd5",
      "execution_count": 110,
      "outputs": [
        {
          "output_type": "execute_result",
          "data": {
            "text/plain": [
              "<seaborn.axisgrid.PairGrid at 0x7fc68f5919d0>"
            ]
          },
          "metadata": {},
          "execution_count": 110
        },
        {
          "output_type": "display_data",
          "data": {
            "image/png": "[encoded data removed]",
            "text/plain": [
              "<Figure size 582.375x540 with 12 Axes>"
            ]
          },
          "metadata": {
            "needs_background": "light"
          }
        }
      ]
    },
    {
      "cell_type": "code",
      "metadata": {
        "colab": {
          "base_uri": "https://localhost:8080/",
          "height": 296
        },
        "id": "baf224bc",
        "outputId": "c70fd938-0035-4b3f-ef13-e211f4fffb1f"
      },
      "source": [
        "##Figure to indicate relationship between Age, Blood Pressure and Cholesterol.\n",
        "#Target:  0: No heart disease, 1: Heart disease\n",
        "\n",
        "sns.scatterplot(x = 'resting bp s', y = 'cholesterol',  hue = 'target', data = data)"
      ],
      "id": "baf224bc",
      "execution_count": 111,
      "outputs": [
        {
          "output_type": "execute_result",
          "data": {
            "text/plain": [
              "<matplotlib.axes._subplots.AxesSubplot at 0x7fc699f9ea90>"
            ]
          },
          "metadata": {},
          "execution_count": 111
        },
        {
          "output_type": "display_data",
          "data": {
            "image/png": "[encoded data removed]",
            "text/plain": [
              "<Figure size 432x288 with 1 Axes>"
            ]
          },
          "metadata": {
            "needs_background": "light"
          }
        }
      ]
    },
    {
      "cell_type": "code",
      "metadata": {
        "colab": {
          "base_uri": "https://localhost:8080/",
          "height": 296
        },
        "id": "cd51805f",
        "outputId": "7bf28308-ec24-4baf-ea5a-3d260dc352a5"
      },
      "source": [
        "sns.scatterplot(x = 'resting bp s', y = 'age', hue = 'target', data = data)"
      ],
      "id": "cd51805f",
      "execution_count": 112,
      "outputs": [
        {
          "output_type": "execute_result",
          "data": {
            "text/plain": [
              "<matplotlib.axes._subplots.AxesSubplot at 0x7fc68f868610>"
            ]
          },
          "metadata": {},
          "execution_count": 112
        },
        {
          "output_type": "display_data",
          "data": {
            "image/png": "[encoded data removed]",
            "text/plain": [
              "<Figure size 432x288 with 1 Axes>"
            ]
          },
          "metadata": {
            "needs_background": "light"
          }
        }
      ]
    },
    {
      "cell_type": "code",
      "metadata": {
        "colab": {
          "base_uri": "https://localhost:8080/",
          "height": 585
        },
        "id": "P9iqIPWaQLlx",
        "outputId": "b74f826a-6c68-479a-cf68-750b5907b478"
      },
      "source": [
        "##Heatmap to indicate the correlation between all the columns in data\n",
        "\n",
        "correlation_data = data.corr()\n",
        "\n",
        "plt.figure(figsize = (10,8))\n",
        "sns.heatmap(correlation_data)\n",
        "plt.title('Correlation between each variable')\n",
        "plt.show()"
      ],
      "id": "P9iqIPWaQLlx",
      "execution_count": 113,
      "outputs": [
        {
          "output_type": "display_data",
          "data": {
            "image/png": "[encoded data removed]",
            "text/plain": [
              "<Figure size 720x576 with 2 Axes>"
            ]
          },
          "metadata": {
            "needs_background": "light"
          }
        }
      ]
    },
    {
      "cell_type": "code",
      "metadata": {
        "colab": {
          "base_uri": "https://localhost:8080/"
        },
        "id": "gsWatonrXMfz",
        "outputId": "a6bbcd52-a545-45d7-aeac-9f822f6e438d"
      },
      "source": [
        "data.columns"
      ],
      "id": "gsWatonrXMfz",
      "execution_count": 114,
      "outputs": [
        {
          "output_type": "execute_result",
          "data": {
            "text/plain": [
              "Index(['age', 'sex', 'chest pain type', 'resting bp s', 'cholesterol',\n",
              "       'fasting blood sugar', 'resting ecg', 'max heart rate',\n",
              "       'exercise angina', 'oldpeak', 'ST slope', 'target'],\n",
              "      dtype='object')"
            ]
          },
          "metadata": {},
          "execution_count": 114
        }
      ]
    },
    {
      "cell_type": "code",
      "metadata": {
        "id": "a71f764e"
      },
      "source": [
        "# filtering numeric features as age , resting bp, cholestrol and max heart rate achieved has outliers as per EDA\n",
        "\n",
        "data_numeric = data[['age','resting bp s','cholesterol','max heart rate']]"
      ],
      "id": "a71f764e",
      "execution_count": 115,
      "outputs": []
    },
    {
      "cell_type": "code",
      "metadata": {
        "colab": {
          "base_uri": "https://localhost:8080/",
          "height": 204
        },
        "id": "bd53fa7f",
        "outputId": "69c3273e-fb89-4599-b175-5520cb181e76"
      },
      "source": [
        "data_numeric.head()"
      ],
      "id": "bd53fa7f",
      "execution_count": 116,
      "outputs": [
        {
          "output_type": "execute_result",
          "data": {
            "text/html": [
              "<div>\n",
              "<style scoped>\n",
              "    .dataframe tbody tr th:only-of-type {\n",
              "        vertical-align: middle;\n",
              "    }\n",
              "\n",
              "    .dataframe tbody tr th {\n",
              "        vertical-align: top;\n",
              "    }\n",
              "\n",
              "    .dataframe thead th {\n",
              "        text-align: right;\n",
              "    }\n",
              "</style>\n",
              "<table border=\"1\" class=\"dataframe\">\n",
              "  <thead>\n",
              "    <tr style=\"text-align: right;\">\n",
              "      <th></th>\n",
              "      <th>age</th>\n",
              "      <th>resting bp s</th>\n",
              "      <th>cholesterol</th>\n",
              "      <th>max heart rate</th>\n",
              "    </tr>\n",
              "  </thead>\n",
              "  <tbody>\n",
              "    <tr>\n",
              "      <th>0</th>\n",
              "      <td>40</td>\n",
              "      <td>140</td>\n",
              "      <td>289</td>\n",
              "      <td>172</td>\n",
              "    </tr>\n",
              "    <tr>\n",
              "      <th>1</th>\n",
              "      <td>49</td>\n",
              "      <td>160</td>\n",
              "      <td>180</td>\n",
              "      <td>156</td>\n",
              "    </tr>\n",
              "    <tr>\n",
              "      <th>2</th>\n",
              "      <td>37</td>\n",
              "      <td>130</td>\n",
              "      <td>283</td>\n",
              "      <td>98</td>\n",
              "    </tr>\n",
              "    <tr>\n",
              "      <th>3</th>\n",
              "      <td>48</td>\n",
              "      <td>138</td>\n",
              "      <td>214</td>\n",
              "      <td>108</td>\n",
              "    </tr>\n",
              "    <tr>\n",
              "      <th>4</th>\n",
              "      <td>54</td>\n",
              "      <td>150</td>\n",
              "      <td>195</td>\n",
              "      <td>122</td>\n",
              "    </tr>\n",
              "  </tbody>\n",
              "</table>\n",
              "</div>"
            ],
            "text/plain": [
              "   age  resting bp s  cholesterol  max heart rate\n",
              "0   40           140          289             172\n",
              "1   49           160          180             156\n",
              "2   37           130          283              98\n",
              "3   48           138          214             108\n",
              "4   54           150          195             122"
            ]
          },
          "metadata": {},
          "execution_count": 116
        }
      ]
    },
    {
      "cell_type": "code",
      "metadata": {
        "colab": {
          "base_uri": "https://localhost:8080/"
        },
        "id": "b30f469c",
        "outputId": "6a3d87f8-f1e7-4ad8-d86f-8bab82729f6b"
      },
      "source": [
        "# calculating zscore of numeric columns in the dataset\n",
        "z = np.abs(stats.zscore(data_numeric))\n",
        "print(z)"
      ],
      "id": "b30f469c",
      "execution_count": 117,
      "outputs": [
        {
          "output_type": "stream",
          "name": "stdout",
          "text": [
            "[[1.46626567 0.4281359  0.7752277  1.26430092]\n",
            " [0.5035987  1.51737007 0.29951621 0.63725935]\n",
            " [1.78715466 0.11648118 0.71606748 1.63576637]\n",
            " ...\n",
            " [0.35210527 0.11648118 0.78265797 0.96953469]\n",
            " [0.35210527 0.11648118 0.2526458  1.34268112]\n",
            " [1.68019167 0.31921249 0.34881639 1.30349102]]\n"
          ]
        }
      ]
    },
    {
      "cell_type": "code",
      "metadata": {
        "colab": {
          "base_uri": "https://localhost:8080/"
        },
        "id": "70b6d32a",
        "outputId": "a3bc6279-9fd6-48ae-c8fd-9ebf3915cc32"
      },
      "source": [
        "# Defining threshold for filtering outliers \n",
        "threshold = 2\n",
        "print(np.where(z > 3))"
      ],
      "id": "70b6d32a",
      "execution_count": 118,
      "outputs": [
        {
          "output_type": "stream",
          "name": "stdout",
          "text": [
            "(array([  30,   76,  109,  149,  242,  366,  371,  391,  400,  450,  592,\n",
            "        617,  733,  760, 1012, 1038, 1074]), array([2, 2, 1, 2, 1, 1, 3, 3, 1, 1, 1, 2, 1, 1, 1, 2, 1]))\n"
          ]
        }
      ]
    },
    {
      "cell_type": "code",
      "metadata": {
        "id": "6b06093c"
      },
      "source": [
        "#filtering outliers and keeping only those data points which are below threshhold\n",
        "data = data[(z < 3).all(axis=1)]"
      ],
      "id": "6b06093c",
      "execution_count": 119,
      "outputs": []
    },
    {
      "cell_type": "code",
      "metadata": {
        "colab": {
          "base_uri": "https://localhost:8080/"
        },
        "id": "c3d36919",
        "outputId": "695a7878-68c8-419f-b21f-ec6b95ece915"
      },
      "source": [
        "# checking shape of dataset after outlier removal\n",
        "data.shape"
      ],
      "id": "c3d36919",
      "execution_count": 120,
      "outputs": [
        {
          "output_type": "execute_result",
          "data": {
            "text/plain": [
              "(1172, 12)"
            ]
          },
          "metadata": {},
          "execution_count": 120
        }
      ]
    },
    {
      "cell_type": "code",
      "metadata": {
        "colab": {
          "base_uri": "https://localhost:8080/",
          "height": 309
        },
        "id": "d086037f",
        "outputId": "61227294-c06a-41a7-a5a1-0ca26a11d629"
      },
      "source": [
        "## encoding categorical variables\n",
        "data = pd.get_dummies(data, drop_first=True)\n",
        "\n",
        "data.head()"
      ],
      "id": "d086037f",
      "execution_count": 121,
      "outputs": [
        {
          "output_type": "execute_result",
          "data": {
            "text/html": [
              "<div>\n",
              "<style scoped>\n",
              "    .dataframe tbody tr th:only-of-type {\n",
              "        vertical-align: middle;\n",
              "    }\n",
              "\n",
              "    .dataframe tbody tr th {\n",
              "        vertical-align: top;\n",
              "    }\n",
              "\n",
              "    .dataframe thead th {\n",
              "        text-align: right;\n",
              "    }\n",
              "</style>\n",
              "<table border=\"1\" class=\"dataframe\">\n",
              "  <thead>\n",
              "    <tr style=\"text-align: right;\">\n",
              "      <th></th>\n",
              "      <th>age</th>\n",
              "      <th>resting bp s</th>\n",
              "      <th>cholesterol</th>\n",
              "      <th>fasting blood sugar</th>\n",
              "      <th>max heart rate</th>\n",
              "      <th>exercise angina</th>\n",
              "      <th>oldpeak</th>\n",
              "      <th>target</th>\n",
              "      <th>sex_male</th>\n",
              "      <th>chest pain type_atypical chest pain</th>\n",
              "      <th>chest pain type_non cardiac chest pain</th>\n",
              "      <th>chest pain type_typical chest pain</th>\n",
              "      <th>resting ecg_normal</th>\n",
              "      <th>resting ecg_st-t wave abnormality</th>\n",
              "      <th>ST slope_flat</th>\n",
              "      <th>ST slope_upsloping</th>\n",
              "    </tr>\n",
              "  </thead>\n",
              "  <tbody>\n",
              "    <tr>\n",
              "      <th>0</th>\n",
              "      <td>40</td>\n",
              "      <td>140</td>\n",
              "      <td>289</td>\n",
              "      <td>0</td>\n",
              "      <td>172</td>\n",
              "      <td>0</td>\n",
              "      <td>0.0</td>\n",
              "      <td>0</td>\n",
              "      <td>1</td>\n",
              "      <td>1</td>\n",
              "      <td>0</td>\n",
              "      <td>0</td>\n",
              "      <td>1</td>\n",
              "      <td>0</td>\n",
              "      <td>0</td>\n",
              "      <td>1</td>\n",
              "    </tr>\n",
              "    <tr>\n",
              "      <th>1</th>\n",
              "      <td>49</td>\n",
              "      <td>160</td>\n",
              "      <td>180</td>\n",
              "      <td>0</td>\n",
              "      <td>156</td>\n",
              "      <td>0</td>\n",
              "      <td>1.0</td>\n",
              "      <td>1</td>\n",
              "      <td>0</td>\n",
              "      <td>0</td>\n",
              "      <td>1</td>\n",
              "      <td>0</td>\n",
              "      <td>1</td>\n",
              "      <td>0</td>\n",
              "      <td>1</td>\n",
              "      <td>0</td>\n",
              "    </tr>\n",
              "    <tr>\n",
              "      <th>2</th>\n",
              "      <td>37</td>\n",
              "      <td>130</td>\n",
              "      <td>283</td>\n",
              "      <td>0</td>\n",
              "      <td>98</td>\n",
              "      <td>0</td>\n",
              "      <td>0.0</td>\n",
              "      <td>0</td>\n",
              "      <td>1</td>\n",
              "      <td>1</td>\n",
              "      <td>0</td>\n",
              "      <td>0</td>\n",
              "      <td>0</td>\n",
              "      <td>1</td>\n",
              "      <td>0</td>\n",
              "      <td>1</td>\n",
              "    </tr>\n",
              "    <tr>\n",
              "      <th>3</th>\n",
              "      <td>48</td>\n",
              "      <td>138</td>\n",
              "      <td>214</td>\n",
              "      <td>0</td>\n",
              "      <td>108</td>\n",
              "      <td>1</td>\n",
              "      <td>1.5</td>\n",
              "      <td>1</td>\n",
              "      <td>0</td>\n",
              "      <td>0</td>\n",
              "      <td>0</td>\n",
              "      <td>0</td>\n",
              "      <td>1</td>\n",
              "      <td>0</td>\n",
              "      <td>1</td>\n",
              "      <td>0</td>\n",
              "    </tr>\n",
              "    <tr>\n",
              "      <th>4</th>\n",
              "      <td>54</td>\n",
              "      <td>150</td>\n",
              "      <td>195</td>\n",
              "      <td>0</td>\n",
              "      <td>122</td>\n",
              "      <td>0</td>\n",
              "      <td>0.0</td>\n",
              "      <td>0</td>\n",
              "      <td>1</td>\n",
              "      <td>0</td>\n",
              "      <td>1</td>\n",
              "      <td>0</td>\n",
              "      <td>1</td>\n",
              "      <td>0</td>\n",
              "      <td>0</td>\n",
              "      <td>1</td>\n",
              "    </tr>\n",
              "  </tbody>\n",
              "</table>\n",
              "</div>"
            ],
            "text/plain": [
              "   age  resting bp s  ...  ST slope_flat  ST slope_upsloping\n",
              "0   40           140  ...              0                   1\n",
              "1   49           160  ...              1                   0\n",
              "2   37           130  ...              0                   1\n",
              "3   48           138  ...              1                   0\n",
              "4   54           150  ...              0                   1\n",
              "\n",
              "[5 rows x 16 columns]"
            ]
          },
          "metadata": {},
          "execution_count": 121
        }
      ]
    },
    {
      "cell_type": "code",
      "metadata": {
        "colab": {
          "base_uri": "https://localhost:8080/"
        },
        "id": "17447482",
        "outputId": "89001c69-6fe0-4b16-fed0-0117d6c74acc"
      },
      "source": [
        "# checking the shape of dataset\n",
        "data.shape"
      ],
      "id": "17447482",
      "execution_count": 122,
      "outputs": [
        {
          "output_type": "execute_result",
          "data": {
            "text/plain": [
              "(1172, 16)"
            ]
          },
          "metadata": {},
          "execution_count": 122
        }
      ]
    },
    {
      "cell_type": "code",
      "metadata": {
        "id": "4fa1006f"
      },
      "source": [
        "# segregating dataset into features i.e., X and target variables i.e., y\n",
        "X = data.drop(['target'],axis=1)\n",
        "y = data['target']"
      ],
      "id": "4fa1006f",
      "execution_count": 123,
      "outputs": []
    },
    {
      "cell_type": "code",
      "metadata": {
        "colab": {
          "base_uri": "https://localhost:8080/",
          "height": 467
        },
        "id": "effb85ae",
        "outputId": "3557b52e-85a0-470a-d319-88dc9e895097"
      },
      "source": [
        "#Correlation of all the columns with only the output variable\n",
        "\n",
        "X.corrwith(y).plot.bar(\n",
        "        figsize = (16, 4), title = \"Correlation with Heart Disease\", fontsize = 10,\n",
        "        rot =90, grid = True)\n",
        "\n",
        "plt.show()"
      ],
      "id": "effb85ae",
      "execution_count": 124,
      "outputs": [
        {
          "output_type": "display_data",
          "data": {
            "image/png": "[encoded data removed]",
            "text/plain": [
              "<Figure size 1152x288 with 1 Axes>"
            ]
          },
          "metadata": {
            "needs_background": "light"
          }
        }
      ]
    },
    {
      "cell_type": "markdown",
      "metadata": {
        "id": "6Fb8cOA6RYSq"
      },
      "source": [
        "**Data Modeling**"
      ],
      "id": "6Fb8cOA6RYSq"
    },
    {
      "cell_type": "code",
      "metadata": {
        "colab": {
          "base_uri": "https://localhost:8080/",
          "height": 309
        },
        "id": "j33Z5q1sOdU-",
        "outputId": "a315b181-0430-4cd7-d12d-44103d2f6ac6"
      },
      "source": [
        "from sklearn.preprocessing import MinMaxScaler\n",
        "scaler = MinMaxScaler()\n",
        "\n",
        "X[['age','resting bp s','cholesterol','max heart rate','oldpeak']] = scaler.fit_transform(X[['age','resting bp s','cholesterol','max heart rate','oldpeak']])\n",
        "X.head()"
      ],
      "id": "j33Z5q1sOdU-",
      "execution_count": 125,
      "outputs": [
        {
          "output_type": "execute_result",
          "data": {
            "text/html": [
              "<div>\n",
              "<style scoped>\n",
              "    .dataframe tbody tr th:only-of-type {\n",
              "        vertical-align: middle;\n",
              "    }\n",
              "\n",
              "    .dataframe tbody tr th {\n",
              "        vertical-align: top;\n",
              "    }\n",
              "\n",
              "    .dataframe thead th {\n",
              "        text-align: right;\n",
              "    }\n",
              "</style>\n",
              "<table border=\"1\" class=\"dataframe\">\n",
              "  <thead>\n",
              "    <tr style=\"text-align: right;\">\n",
              "      <th></th>\n",
              "      <th>age</th>\n",
              "      <th>resting bp s</th>\n",
              "      <th>cholesterol</th>\n",
              "      <th>fasting blood sugar</th>\n",
              "      <th>max heart rate</th>\n",
              "      <th>exercise angina</th>\n",
              "      <th>oldpeak</th>\n",
              "      <th>sex_male</th>\n",
              "      <th>chest pain type_atypical chest pain</th>\n",
              "      <th>chest pain type_non cardiac chest pain</th>\n",
              "      <th>chest pain type_typical chest pain</th>\n",
              "      <th>resting ecg_normal</th>\n",
              "      <th>resting ecg_st-t wave abnormality</th>\n",
              "      <th>ST slope_flat</th>\n",
              "      <th>ST slope_upsloping</th>\n",
              "    </tr>\n",
              "  </thead>\n",
              "  <tbody>\n",
              "    <tr>\n",
              "      <th>0</th>\n",
              "      <td>0.244898</td>\n",
              "      <td>0.571429</td>\n",
              "      <td>0.588595</td>\n",
              "      <td>0</td>\n",
              "      <td>0.777778</td>\n",
              "      <td>0</td>\n",
              "      <td>0.295455</td>\n",
              "      <td>1</td>\n",
              "      <td>1</td>\n",
              "      <td>0</td>\n",
              "      <td>0</td>\n",
              "      <td>1</td>\n",
              "      <td>0</td>\n",
              "      <td>0</td>\n",
              "      <td>1</td>\n",
              "    </tr>\n",
              "    <tr>\n",
              "      <th>1</th>\n",
              "      <td>0.428571</td>\n",
              "      <td>0.761905</td>\n",
              "      <td>0.366599</td>\n",
              "      <td>0</td>\n",
              "      <td>0.659259</td>\n",
              "      <td>0</td>\n",
              "      <td>0.409091</td>\n",
              "      <td>0</td>\n",
              "      <td>0</td>\n",
              "      <td>1</td>\n",
              "      <td>0</td>\n",
              "      <td>1</td>\n",
              "      <td>0</td>\n",
              "      <td>1</td>\n",
              "      <td>0</td>\n",
              "    </tr>\n",
              "    <tr>\n",
              "      <th>2</th>\n",
              "      <td>0.183673</td>\n",
              "      <td>0.476190</td>\n",
              "      <td>0.576375</td>\n",
              "      <td>0</td>\n",
              "      <td>0.229630</td>\n",
              "      <td>0</td>\n",
              "      <td>0.295455</td>\n",
              "      <td>1</td>\n",
              "      <td>1</td>\n",
              "      <td>0</td>\n",
              "      <td>0</td>\n",
              "      <td>0</td>\n",
              "      <td>1</td>\n",
              "      <td>0</td>\n",
              "      <td>1</td>\n",
              "    </tr>\n",
              "    <tr>\n",
              "      <th>3</th>\n",
              "      <td>0.408163</td>\n",
              "      <td>0.552381</td>\n",
              "      <td>0.435845</td>\n",
              "      <td>0</td>\n",
              "      <td>0.303704</td>\n",
              "      <td>1</td>\n",
              "      <td>0.465909</td>\n",
              "      <td>0</td>\n",
              "      <td>0</td>\n",
              "      <td>0</td>\n",
              "      <td>0</td>\n",
              "      <td>1</td>\n",
              "      <td>0</td>\n",
              "      <td>1</td>\n",
              "      <td>0</td>\n",
              "    </tr>\n",
              "    <tr>\n",
              "      <th>4</th>\n",
              "      <td>0.530612</td>\n",
              "      <td>0.666667</td>\n",
              "      <td>0.397149</td>\n",
              "      <td>0</td>\n",
              "      <td>0.407407</td>\n",
              "      <td>0</td>\n",
              "      <td>0.295455</td>\n",
              "      <td>1</td>\n",
              "      <td>0</td>\n",
              "      <td>1</td>\n",
              "      <td>0</td>\n",
              "      <td>1</td>\n",
              "      <td>0</td>\n",
              "      <td>0</td>\n",
              "      <td>1</td>\n",
              "    </tr>\n",
              "  </tbody>\n",
              "</table>\n",
              "</div>"
            ],
            "text/plain": [
              "        age  resting bp s  ...  ST slope_flat  ST slope_upsloping\n",
              "0  0.244898      0.571429  ...              0                   1\n",
              "1  0.428571      0.761905  ...              1                   0\n",
              "2  0.183673      0.476190  ...              0                   1\n",
              "3  0.408163      0.552381  ...              1                   0\n",
              "4  0.530612      0.666667  ...              0                   1\n",
              "\n",
              "[5 rows x 15 columns]"
            ]
          },
          "metadata": {},
          "execution_count": 125
        }
      ]
    },
    {
      "cell_type": "code",
      "metadata": {
        "id": "4460014d"
      },
      "source": [
        "X_train, X_test, y_train, y_test = train_test_split(X, y, stratify=y, test_size=0.2,shuffle=True, random_state=5)"
      ],
      "id": "4460014d",
      "execution_count": 126,
      "outputs": []
    },
    {
      "cell_type": "code",
      "metadata": {
        "colab": {
          "base_uri": "https://localhost:8080/"
        },
        "id": "c0b31253",
        "outputId": "1ec60b5a-0d73-45ca-cc86-bb5b6e2c26fd"
      },
      "source": [
        "## checking distribution of target variable in train test split\n",
        "print('Distribution of target variable in training set')\n",
        "print(y_train.value_counts())\n",
        "\n",
        "print('Distribution of target variable in test set')\n",
        "print(y_test.value_counts())"
      ],
      "id": "c0b31253",
      "execution_count": 127,
      "outputs": [
        {
          "output_type": "stream",
          "name": "stdout",
          "text": [
            "Distribution of target variable in training set\n",
            "1    491\n",
            "0    446\n",
            "Name: target, dtype: int64\n",
            "Distribution of target variable in test set\n",
            "1    123\n",
            "0    112\n",
            "Name: target, dtype: int64\n"
          ]
        }
      ]
    },
    {
      "cell_type": "code",
      "metadata": {
        "colab": {
          "base_uri": "https://localhost:8080/"
        },
        "id": "7d1b69e9",
        "outputId": "58c3fb52-f229-4969-80ec-004e9212fd1c"
      },
      "source": [
        "print('-----Shape of Training Set-----')\n",
        "print(X_train.shape)\n",
        "print(y_train.shape)\n",
        "\n",
        "print('-----Shape of Test Set-----')\n",
        "print(X_test.shape)\n",
        "print(y_test.shape)"
      ],
      "id": "7d1b69e9",
      "execution_count": 128,
      "outputs": [
        {
          "output_type": "stream",
          "name": "stdout",
          "text": [
            "-----Shape of Training Set-----\n",
            "(937, 15)\n",
            "(937,)\n",
            "-----Shape of Test Set-----\n",
            "(235, 15)\n",
            "(235,)\n"
          ]
        }
      ]
    },
    {
      "cell_type": "code",
      "metadata": {
        "id": "CL_kGvrmFdDC"
      },
      "source": [
        "##Building an SVC Classifier model to predict heart disease\n",
        "\n",
        "svc = SVC(kernel='linear',gamma='auto', C = 1)\n",
        "svc.fit(X_train,y_train)\n",
        "y_pred_svc = svc.predict(X_test)\n"
      ],
      "id": "CL_kGvrmFdDC",
      "execution_count": 129,
      "outputs": []
    },
    {
      "cell_type": "code",
      "metadata": {
        "id": "a6f53006",
        "colab": {
          "base_uri": "https://localhost:8080/"
        },
        "outputId": "8f8c2ba2-094e-4bef-8ba2-b5f6ebdbcbd0"
      },
      "source": [
        "matrix = confusion_matrix(y_test,y_pred_svc)\n",
        "\n",
        "TN = matrix[0][0]\n",
        "FN = matrix[1][0]\n",
        "TP = matrix[1][1]\n",
        "FP = matrix[0][1]\n",
        "\n",
        "print('SVM:  Accuracy: ',accuracy_score(y_test, y_pred_svc))\n",
        "print('Precision: ',precision_score(y_test, y_pred_svc))\n",
        "print('Sensitivity: ',recall_score(y_test, y_pred_svc))\n",
        "print('Specificity: ',TN/(TN+FP))\n",
        "print('F1 Score: ',f1_score(y_test, y_pred_svc))\n"
      ],
      "id": "a6f53006",
      "execution_count": 130,
      "outputs": [
        {
          "output_type": "stream",
          "name": "stdout",
          "text": [
            "SVM:  Accuracy:  0.825531914893617\n",
            "Precision:  0.8014705882352942\n",
            "Sensitivity:  0.8861788617886179\n",
            "Specificity:  0.7589285714285714\n",
            "F1 Score:  0.8416988416988418\n"
          ]
        }
      ]
    },
    {
      "cell_type": "code",
      "metadata": {
        "id": "e3spLjWZMmlx"
      },
      "source": [
        "##Building an SVC Classifier with different parameters to predict heart disease\n",
        "\n",
        "svc_r = SVC(kernel='rbf',gamma='auto', C = 1)\n",
        "svc_r.fit(X_train,y_train)\n",
        "y_pred_svc_r = svc_r.predict(X_test)\n"
      ],
      "id": "e3spLjWZMmlx",
      "execution_count": 131,
      "outputs": []
    },
    {
      "cell_type": "code",
      "metadata": {
        "colab": {
          "base_uri": "https://localhost:8080/"
        },
        "id": "tjcFcGs3M0QG",
        "outputId": "32391b57-6612-4290-b597-eb265741e0ec"
      },
      "source": [
        "matrix = confusion_matrix(y_test,y_pred_svc_r)\n",
        "\n",
        "TN = matrix[0][0]\n",
        "FN = matrix[1][0]\n",
        "TP = matrix[1][1]\n",
        "FP = matrix[0][1]\n",
        "\n",
        "print('SVM:  Accuracy: ',accuracy_score(y_test, y_pred_svc_r))\n",
        "print('Precision: ',precision_score(y_test, y_pred_svc_r))\n",
        "print('Sensitivity: ',recall_score(y_test, y_pred_svc_r))\n",
        "print('Specificity: ',TN/(TN+FP))\n",
        "print('F1 Score: ',f1_score(y_test, y_pred_svc_r))\n"
      ],
      "id": "tjcFcGs3M0QG",
      "execution_count": 132,
      "outputs": [
        {
          "output_type": "stream",
          "name": "stdout",
          "text": [
            "SVM:  Accuracy:  0.8297872340425532\n",
            "Precision:  0.8074074074074075\n",
            "Sensitivity:  0.8861788617886179\n",
            "Specificity:  0.7678571428571429\n",
            "F1 Score:  0.8449612403100776\n"
          ]
        }
      ]
    },
    {
      "cell_type": "code",
      "metadata": {
        "id": "a3329271"
      },
      "source": [
        "#Building an KNN Classifier model to predict heart disease\n",
        "\n",
        "knn = KNeighborsClassifier(5)\n",
        "knn.fit(X_train,y_train)\n",
        "y_pred_knn = knn.predict(X_test)"
      ],
      "id": "a3329271",
      "execution_count": 133,
      "outputs": []
    },
    {
      "cell_type": "code",
      "metadata": {
        "colab": {
          "base_uri": "https://localhost:8080/"
        },
        "id": "k6uekrpOIwgI",
        "outputId": "d08d25e9-51b9-41a9-fe9e-45f5af504f3c"
      },
      "source": [
        "matrix = confusion_matrix(y_test,y_pred_knn)\n",
        "\n",
        "TN = matrix[0][0]\n",
        "FN = matrix[1][0]\n",
        "TP = matrix[1][1]\n",
        "FP = matrix[0][1]\n",
        "\n",
        "print('KNN:  Accuracy: ',accuracy_score(y_test, y_pred_knn))\n",
        "print('Precision: ',precision_score(y_test, y_pred_knn))\n",
        "print('Sensitivity: ',recall_score(y_test, y_pred_knn))\n",
        "print('Specificity: ',TN/(TN+FP))\n",
        "print('F1 Score: ',f1_score(y_test, y_pred_knn))\n"
      ],
      "id": "k6uekrpOIwgI",
      "execution_count": 134,
      "outputs": [
        {
          "output_type": "stream",
          "name": "stdout",
          "text": [
            "KNN:  Accuracy:  0.8212765957446808\n",
            "Precision:  0.8188976377952756\n",
            "Sensitivity:  0.8455284552845529\n",
            "Specificity:  0.7946428571428571\n",
            "F1 Score:  0.832\n"
          ]
        }
      ]
    },
    {
      "cell_type": "code",
      "metadata": {
        "id": "Zs4FwsPSJH2J"
      },
      "source": [
        "#Building a Decision Tree Classifier model to predict heart disease\n",
        "\n",
        "dec = DecisionTreeClassifier()\n",
        "dec.fit(X_train,y_train)\n",
        "y_pred_dec = dec.predict(X_test)"
      ],
      "id": "Zs4FwsPSJH2J",
      "execution_count": 135,
      "outputs": []
    },
    {
      "cell_type": "code",
      "metadata": {
        "colab": {
          "base_uri": "https://localhost:8080/"
        },
        "id": "Ex_UhwaPKk94",
        "outputId": "1cc80e1d-8f34-4f7c-ded8-4ed4cc3cc5d0"
      },
      "source": [
        "matrix = confusion_matrix(y_test,y_pred_dec)\n",
        "\n",
        "TN = matrix[0][0]\n",
        "FN = matrix[1][0]\n",
        "TP = matrix[1][1]\n",
        "FP = matrix[0][1]\n",
        "\n",
        "print('Decision Tree:  Accuracy: ',accuracy_score(y_test, y_pred_dec))\n",
        "print('Precision: ',precision_score(y_test, y_pred_dec))\n",
        "print('Sensitivity: ',recall_score(y_test, y_pred_dec))\n",
        "print('Specificity: ',TN/(TN+FP))\n",
        "print('F1 Score: ',f1_score(y_test, y_pred_dec))\n"
      ],
      "id": "Ex_UhwaPKk94",
      "execution_count": 136,
      "outputs": [
        {
          "output_type": "stream",
          "name": "stdout",
          "text": [
            "Decision Tree:  Accuracy:  0.825531914893617\n",
            "Precision:  0.8253968253968254\n",
            "Sensitivity:  0.8455284552845529\n",
            "Specificity:  0.8035714285714286\n",
            "F1 Score:  0.8353413654618473\n"
          ]
        }
      ]
    },
    {
      "cell_type": "code",
      "metadata": {
        "id": "e4e89a26"
      },
      "source": [
        "##Building a Random Forest Classifier model to predict heart disease\n",
        "\n",
        "rf = RandomForestClassifier(criterion='entropy',n_estimators=100)\n",
        "rf.fit(X_train, y_train)\n",
        "y_pred_rf = rf.predict(X_test)"
      ],
      "id": "e4e89a26",
      "execution_count": 137,
      "outputs": []
    },
    {
      "cell_type": "code",
      "metadata": {
        "colab": {
          "base_uri": "https://localhost:8080/"
        },
        "id": "na5es5riFIZa",
        "outputId": "97195aed-3574-41d2-b239-931978921b0d"
      },
      "source": [
        "matrix = confusion_matrix(y_test,y_pred_rf)\n",
        "\n",
        "TN = matrix[0][0]\n",
        "FN = matrix[1][0]\n",
        "TP = matrix[1][1]\n",
        "FP = matrix[0][1]\n",
        "\n",
        "print('Random Forest:  Accuracy: ',accuracy_score(y_test, y_pred_rf))\n",
        "print('Precision: ',precision_score(y_test, y_pred_rf))\n",
        "print('Sensitivity: ',recall_score(y_test, y_pred_rf))\n",
        "print('Specificity: ',TN/(TN+FP))\n",
        "print('F1 Score: ',f1_score(y_test, y_pred_rf))"
      ],
      "id": "na5es5riFIZa",
      "execution_count": 138,
      "outputs": [
        {
          "output_type": "stream",
          "name": "stdout",
          "text": [
            "Random Forest:  Accuracy:  0.902127659574468\n",
            "Precision:  0.8731343283582089\n",
            "Sensitivity:  0.9512195121951219\n",
            "Specificity:  0.8482142857142857\n",
            "F1 Score:  0.9105058365758755\n"
          ]
        }
      ]
    },
    {
      "cell_type": "code",
      "metadata": {
        "id": "719d0540"
      },
      "source": [
        "##Clearly Random Forest model has highest accuracy than other models\n",
        "\n",
        "with open('model_pkl', 'wb') as files:\n",
        "    pickle.dump(rf, files)"
      ],
      "id": "719d0540",
      "execution_count": 139,
      "outputs": []
    },
    {
      "cell_type": "code",
      "metadata": {
        "id": "9bfc596d"
      },
      "source": [
        "with open('model_pkl', 'rb') as file:\n",
        "    dt = pickle.load(file)"
      ],
      "id": "9bfc596d",
      "execution_count": 140,
      "outputs": []
    },
    {
      "cell_type": "code",
      "metadata": {
        "colab": {
          "base_uri": "https://localhost:8080/"
        },
        "id": "ba50324a",
        "outputId": "1d513749-b152-4d11-fead-a05067fd19fd"
      },
      "source": [
        "root = os.path.abspath('')\n",
        "model_path = os.path.join(root, 'project_final_final.ipynb')\n",
        "joblib.dump(rf, model_path)"
      ],
      "id": "ba50324a",
      "execution_count": 141,
      "outputs": [
        {
          "output_type": "execute_result",
          "data": {
            "text/plain": [
              "['/content/project_final_final.ipynb']"
            ]
          },
          "metadata": {},
          "execution_count": 141
        }
      ]
    },
    {
      "cell_type": "code",
      "metadata": {
        "id": "d5b90491"
      },
      "source": [
        "scaler_path = os.path.join(root, 'models_scaler.pkl')\n",
        "with open(scaler_path, 'wb') as scaler_file:\n",
        "    pickle.dump(scaler, scaler_file)"
      ],
      "id": "d5b90491",
      "execution_count": 142,
      "outputs": []
    }
  ]
}